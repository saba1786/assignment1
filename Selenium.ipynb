{
 "cells": [
  {
   "cell_type": "code",
   "execution_count": 6,
   "id": "2ddc995d",
   "metadata": {},
   "outputs": [],
   "source": [
    "import selenium\n",
    "import pandas as pd\n",
    "from selenium import webdriver\n",
    "import warnings\n",
    "warnings.filterwarnings('ignore')\n",
    "from selenium.webdriver.common.by import By\n",
    "import time\n",
    "from selenium.webdriver.common.keys import Keys"
   ]
  },
  {
   "cell_type": "markdown",
   "id": "d8e7b301",
   "metadata": {},
   "source": [
    "# Question 1"
   ]
  },
  {
   "cell_type": "code",
   "execution_count": 100,
   "id": "4c3b3e8f",
   "metadata": {},
   "outputs": [],
   "source": [
    "driver=webdriver.Chrome()"
   ]
  },
  {
   "cell_type": "code",
   "execution_count": 101,
   "id": "149d773d",
   "metadata": {},
   "outputs": [],
   "source": [
    "driver.get(\"https://www.shine.com/\")"
   ]
  },
  {
   "cell_type": "code",
   "execution_count": 102,
   "id": "a22a8756",
   "metadata": {},
   "outputs": [],
   "source": [
    "designation=driver.find_element(By.CLASS_NAME,\"form-control\")\n",
    "designation.send_keys('Data Analyst')"
   ]
  },
  {
   "cell_type": "code",
   "execution_count": 103,
   "id": "5acb4241",
   "metadata": {},
   "outputs": [],
   "source": [
    "location=driver.find_element(By.XPATH,'/html/body/div/div[4]/div/div[2]/div[2]/div/form/div/div[1]/ul/li[2]/div/input')\n",
    "location.send_keys('Bangalore')"
   ]
  },
  {
   "cell_type": "code",
   "execution_count": 105,
   "id": "099c3f08",
   "metadata": {},
   "outputs": [],
   "source": [
    "search=driver.find_element(By.CLASS_NAME,\"searchForm_btnWrap_advance__VYBHN\")\n",
    "search.click()"
   ]
  },
  {
   "cell_type": "code",
   "execution_count": 128,
   "id": "730e0d76",
   "metadata": {},
   "outputs": [
    {
     "data": {
      "text/plain": [
       "[<selenium.webdriver.remote.webelement.WebElement (session=\"48eb3c355f62fffd75d86c374b9e4c05\", element=\"376A992B5FA810717D559EDD13606C77_element_1133\")>,\n",
       " <selenium.webdriver.remote.webelement.WebElement (session=\"48eb3c355f62fffd75d86c374b9e4c05\", element=\"376A992B5FA810717D559EDD13606C77_element_1134\")>,\n",
       " <selenium.webdriver.remote.webelement.WebElement (session=\"48eb3c355f62fffd75d86c374b9e4c05\", element=\"376A992B5FA810717D559EDD13606C77_element_988\")>,\n",
       " <selenium.webdriver.remote.webelement.WebElement (session=\"48eb3c355f62fffd75d86c374b9e4c05\", element=\"376A992B5FA810717D559EDD13606C77_element_1135\")>,\n",
       " <selenium.webdriver.remote.webelement.WebElement (session=\"48eb3c355f62fffd75d86c374b9e4c05\", element=\"376A992B5FA810717D559EDD13606C77_element_1136\")>,\n",
       " <selenium.webdriver.remote.webelement.WebElement (session=\"48eb3c355f62fffd75d86c374b9e4c05\", element=\"376A992B5FA810717D559EDD13606C77_element_1137\")>,\n",
       " <selenium.webdriver.remote.webelement.WebElement (session=\"48eb3c355f62fffd75d86c374b9e4c05\", element=\"376A992B5FA810717D559EDD13606C77_element_1138\")>,\n",
       " <selenium.webdriver.remote.webelement.WebElement (session=\"48eb3c355f62fffd75d86c374b9e4c05\", element=\"376A992B5FA810717D559EDD13606C77_element_1139\")>,\n",
       " <selenium.webdriver.remote.webelement.WebElement (session=\"48eb3c355f62fffd75d86c374b9e4c05\", element=\"376A992B5FA810717D559EDD13606C77_element_1140\")>,\n",
       " <selenium.webdriver.remote.webelement.WebElement (session=\"48eb3c355f62fffd75d86c374b9e4c05\", element=\"376A992B5FA810717D559EDD13606C77_element_1141\")>,\n",
       " <selenium.webdriver.remote.webelement.WebElement (session=\"48eb3c355f62fffd75d86c374b9e4c05\", element=\"376A992B5FA810717D559EDD13606C77_element_1142\")>,\n",
       " <selenium.webdriver.remote.webelement.WebElement (session=\"48eb3c355f62fffd75d86c374b9e4c05\", element=\"376A992B5FA810717D559EDD13606C77_element_1143\")>,\n",
       " <selenium.webdriver.remote.webelement.WebElement (session=\"48eb3c355f62fffd75d86c374b9e4c05\", element=\"376A992B5FA810717D559EDD13606C77_element_1144\")>,\n",
       " <selenium.webdriver.remote.webelement.WebElement (session=\"48eb3c355f62fffd75d86c374b9e4c05\", element=\"376A992B5FA810717D559EDD13606C77_element_1145\")>,\n",
       " <selenium.webdriver.remote.webelement.WebElement (session=\"48eb3c355f62fffd75d86c374b9e4c05\", element=\"376A992B5FA810717D559EDD13606C77_element_1146\")>,\n",
       " <selenium.webdriver.remote.webelement.WebElement (session=\"48eb3c355f62fffd75d86c374b9e4c05\", element=\"376A992B5FA810717D559EDD13606C77_element_1147\")>,\n",
       " <selenium.webdriver.remote.webelement.WebElement (session=\"48eb3c355f62fffd75d86c374b9e4c05\", element=\"376A992B5FA810717D559EDD13606C77_element_1148\")>,\n",
       " <selenium.webdriver.remote.webelement.WebElement (session=\"48eb3c355f62fffd75d86c374b9e4c05\", element=\"376A992B5FA810717D559EDD13606C77_element_1149\")>,\n",
       " <selenium.webdriver.remote.webelement.WebElement (session=\"48eb3c355f62fffd75d86c374b9e4c05\", element=\"376A992B5FA810717D559EDD13606C77_element_1150\")>,\n",
       " <selenium.webdriver.remote.webelement.WebElement (session=\"48eb3c355f62fffd75d86c374b9e4c05\", element=\"376A992B5FA810717D559EDD13606C77_element_1151\")>,\n",
       " <selenium.webdriver.remote.webelement.WebElement (session=\"48eb3c355f62fffd75d86c374b9e4c05\", element=\"376A992B5FA810717D559EDD13606C77_element_1152\")>,\n",
       " <selenium.webdriver.remote.webelement.WebElement (session=\"48eb3c355f62fffd75d86c374b9e4c05\", element=\"376A992B5FA810717D559EDD13606C77_element_1153\")>,\n",
       " <selenium.webdriver.remote.webelement.WebElement (session=\"48eb3c355f62fffd75d86c374b9e4c05\", element=\"376A992B5FA810717D559EDD13606C77_element_1154\")>]"
      ]
     },
     "execution_count": 128,
     "metadata": {},
     "output_type": "execute_result"
    }
   ],
   "source": [
    "title_t1=driver.find_elements(By.TAG_NAME,\"h2\")\n",
    "title_t1"
   ]
  },
  {
   "cell_type": "code",
   "execution_count": 152,
   "id": "f41044a4",
   "metadata": {},
   "outputs": [
    {
     "data": {
      "text/plain": [
       "['',\n",
       " '',\n",
       " 'Lead Data Analyst',\n",
       " 'Data Analyst',\n",
       " 'Vacancy For Data Analyst',\n",
       " 'Clinical Data Analyst',\n",
       " 'Data Modeler data',\n",
       " 'Data Modeller',\n",
       " 'How relevant did you find the job search results ?',\n",
       " 'Data Modeler Bangalore']"
      ]
     },
     "execution_count": 152,
     "metadata": {},
     "output_type": "execute_result"
    }
   ],
   "source": [
    "# extracting the text of the job title  \n",
    "job_titles=[]\n",
    "for i in title_t1:\n",
    "    if i.text is None:\n",
    "        job_titles.append('Not')\n",
    "    else:\n",
    "        job_titles.append(i.text)\n",
    "job_titles[:10] "
   ]
  },
  {
   "cell_type": "code",
   "execution_count": 131,
   "id": "c4834ddd",
   "metadata": {},
   "outputs": [
    {
     "data": {
      "text/plain": [
       "[<selenium.webdriver.remote.webelement.WebElement (session=\"48eb3c355f62fffd75d86c374b9e4c05\", element=\"376A992B5FA810717D559EDD13606C77_element_989\")>,\n",
       " <selenium.webdriver.remote.webelement.WebElement (session=\"48eb3c355f62fffd75d86c374b9e4c05\", element=\"376A992B5FA810717D559EDD13606C77_element_1255\")>,\n",
       " <selenium.webdriver.remote.webelement.WebElement (session=\"48eb3c355f62fffd75d86c374b9e4c05\", element=\"376A992B5FA810717D559EDD13606C77_element_1269\")>,\n",
       " <selenium.webdriver.remote.webelement.WebElement (session=\"48eb3c355f62fffd75d86c374b9e4c05\", element=\"376A992B5FA810717D559EDD13606C77_element_1282\")>,\n",
       " <selenium.webdriver.remote.webelement.WebElement (session=\"48eb3c355f62fffd75d86c374b9e4c05\", element=\"376A992B5FA810717D559EDD13606C77_element_1296\")>,\n",
       " <selenium.webdriver.remote.webelement.WebElement (session=\"48eb3c355f62fffd75d86c374b9e4c05\", element=\"376A992B5FA810717D559EDD13606C77_element_1309\")>,\n",
       " <selenium.webdriver.remote.webelement.WebElement (session=\"48eb3c355f62fffd75d86c374b9e4c05\", element=\"376A992B5FA810717D559EDD13606C77_element_1325\")>,\n",
       " <selenium.webdriver.remote.webelement.WebElement (session=\"48eb3c355f62fffd75d86c374b9e4c05\", element=\"376A992B5FA810717D559EDD13606C77_element_1338\")>,\n",
       " <selenium.webdriver.remote.webelement.WebElement (session=\"48eb3c355f62fffd75d86c374b9e4c05\", element=\"376A992B5FA810717D559EDD13606C77_element_1353\")>,\n",
       " <selenium.webdriver.remote.webelement.WebElement (session=\"48eb3c355f62fffd75d86c374b9e4c05\", element=\"376A992B5FA810717D559EDD13606C77_element_1366\")>,\n",
       " <selenium.webdriver.remote.webelement.WebElement (session=\"48eb3c355f62fffd75d86c374b9e4c05\", element=\"376A992B5FA810717D559EDD13606C77_element_1379\")>,\n",
       " <selenium.webdriver.remote.webelement.WebElement (session=\"48eb3c355f62fffd75d86c374b9e4c05\", element=\"376A992B5FA810717D559EDD13606C77_element_1392\")>,\n",
       " <selenium.webdriver.remote.webelement.WebElement (session=\"48eb3c355f62fffd75d86c374b9e4c05\", element=\"376A992B5FA810717D559EDD13606C77_element_1405\")>,\n",
       " <selenium.webdriver.remote.webelement.WebElement (session=\"48eb3c355f62fffd75d86c374b9e4c05\", element=\"376A992B5FA810717D559EDD13606C77_element_1418\")>,\n",
       " <selenium.webdriver.remote.webelement.WebElement (session=\"48eb3c355f62fffd75d86c374b9e4c05\", element=\"376A992B5FA810717D559EDD13606C77_element_1431\")>,\n",
       " <selenium.webdriver.remote.webelement.WebElement (session=\"48eb3c355f62fffd75d86c374b9e4c05\", element=\"376A992B5FA810717D559EDD13606C77_element_1444\")>,\n",
       " <selenium.webdriver.remote.webelement.WebElement (session=\"48eb3c355f62fffd75d86c374b9e4c05\", element=\"376A992B5FA810717D559EDD13606C77_element_1464\")>,\n",
       " <selenium.webdriver.remote.webelement.WebElement (session=\"48eb3c355f62fffd75d86c374b9e4c05\", element=\"376A992B5FA810717D559EDD13606C77_element_1477\")>,\n",
       " <selenium.webdriver.remote.webelement.WebElement (session=\"48eb3c355f62fffd75d86c374b9e4c05\", element=\"376A992B5FA810717D559EDD13606C77_element_1490\")>,\n",
       " <selenium.webdriver.remote.webelement.WebElement (session=\"48eb3c355f62fffd75d86c374b9e4c05\", element=\"376A992B5FA810717D559EDD13606C77_element_1503\")>]"
      ]
     },
     "execution_count": 131,
     "metadata": {},
     "output_type": "execute_result"
    }
   ],
   "source": [
    "# extracting all the tags having company names\n",
    "company_t1=driver.find_elements(By.XPATH,\"//div[@class='jobCard_jobCard_cName__mYnow']\")\n",
    "company_t1"
   ]
  },
  {
   "cell_type": "code",
   "execution_count": 151,
   "id": "4f31af37",
   "metadata": {},
   "outputs": [
    {
     "data": {
      "text/plain": [
       "['ara resources private limited',\n",
       " 'diraa hr services hiring for mncs',\n",
       " 'yogita staffing solution',\n",
       " 'techno endura',\n",
       " 'boyen haddin consulting and technol...',\n",
       " 'boyen haddin consulting and technol...',\n",
       " 'boyen haddin consulting and technol...',\n",
       " 'boyen haddin consulting and technol...',\n",
       " 'quiscon biotech',\n",
       " 'kavya interprises']"
      ]
     },
     "execution_count": 151,
     "metadata": {},
     "output_type": "execute_result"
    }
   ],
   "source": [
    "#extracting the text from the tags \n",
    "companies_names=[]\n",
    "\n",
    "for i in company_t1:\n",
    "    companies_names.append(i.text)\n",
    "companies_names[:10]  "
   ]
  },
  {
   "cell_type": "code",
   "execution_count": 134,
   "id": "95c540a8",
   "metadata": {
    "scrolled": true
   },
   "outputs": [
    {
     "data": {
      "text/plain": [
       "[<selenium.webdriver.remote.webelement.WebElement (session=\"48eb3c355f62fffd75d86c374b9e4c05\", element=\"376A992B5FA810717D559EDD13606C77_element_906\")>,\n",
       " <selenium.webdriver.remote.webelement.WebElement (session=\"48eb3c355f62fffd75d86c374b9e4c05\", element=\"376A992B5FA810717D559EDD13606C77_element_1257\")>,\n",
       " <selenium.webdriver.remote.webelement.WebElement (session=\"48eb3c355f62fffd75d86c374b9e4c05\", element=\"376A992B5FA810717D559EDD13606C77_element_1271\")>,\n",
       " <selenium.webdriver.remote.webelement.WebElement (session=\"48eb3c355f62fffd75d86c374b9e4c05\", element=\"376A992B5FA810717D559EDD13606C77_element_1284\")>,\n",
       " <selenium.webdriver.remote.webelement.WebElement (session=\"48eb3c355f62fffd75d86c374b9e4c05\", element=\"376A992B5FA810717D559EDD13606C77_element_1298\")>,\n",
       " <selenium.webdriver.remote.webelement.WebElement (session=\"48eb3c355f62fffd75d86c374b9e4c05\", element=\"376A992B5FA810717D559EDD13606C77_element_1311\")>,\n",
       " <selenium.webdriver.remote.webelement.WebElement (session=\"48eb3c355f62fffd75d86c374b9e4c05\", element=\"376A992B5FA810717D559EDD13606C77_element_1327\")>,\n",
       " <selenium.webdriver.remote.webelement.WebElement (session=\"48eb3c355f62fffd75d86c374b9e4c05\", element=\"376A992B5FA810717D559EDD13606C77_element_1340\")>,\n",
       " <selenium.webdriver.remote.webelement.WebElement (session=\"48eb3c355f62fffd75d86c374b9e4c05\", element=\"376A992B5FA810717D559EDD13606C77_element_1355\")>,\n",
       " <selenium.webdriver.remote.webelement.WebElement (session=\"48eb3c355f62fffd75d86c374b9e4c05\", element=\"376A992B5FA810717D559EDD13606C77_element_1368\")>,\n",
       " <selenium.webdriver.remote.webelement.WebElement (session=\"48eb3c355f62fffd75d86c374b9e4c05\", element=\"376A992B5FA810717D559EDD13606C77_element_1381\")>,\n",
       " <selenium.webdriver.remote.webelement.WebElement (session=\"48eb3c355f62fffd75d86c374b9e4c05\", element=\"376A992B5FA810717D559EDD13606C77_element_1394\")>,\n",
       " <selenium.webdriver.remote.webelement.WebElement (session=\"48eb3c355f62fffd75d86c374b9e4c05\", element=\"376A992B5FA810717D559EDD13606C77_element_1407\")>,\n",
       " <selenium.webdriver.remote.webelement.WebElement (session=\"48eb3c355f62fffd75d86c374b9e4c05\", element=\"376A992B5FA810717D559EDD13606C77_element_1420\")>,\n",
       " <selenium.webdriver.remote.webelement.WebElement (session=\"48eb3c355f62fffd75d86c374b9e4c05\", element=\"376A992B5FA810717D559EDD13606C77_element_1433\")>,\n",
       " <selenium.webdriver.remote.webelement.WebElement (session=\"48eb3c355f62fffd75d86c374b9e4c05\", element=\"376A992B5FA810717D559EDD13606C77_element_1446\")>,\n",
       " <selenium.webdriver.remote.webelement.WebElement (session=\"48eb3c355f62fffd75d86c374b9e4c05\", element=\"376A992B5FA810717D559EDD13606C77_element_1466\")>,\n",
       " <selenium.webdriver.remote.webelement.WebElement (session=\"48eb3c355f62fffd75d86c374b9e4c05\", element=\"376A992B5FA810717D559EDD13606C77_element_1479\")>,\n",
       " <selenium.webdriver.remote.webelement.WebElement (session=\"48eb3c355f62fffd75d86c374b9e4c05\", element=\"376A992B5FA810717D559EDD13606C77_element_1492\")>,\n",
       " <selenium.webdriver.remote.webelement.WebElement (session=\"48eb3c355f62fffd75d86c374b9e4c05\", element=\"376A992B5FA810717D559EDD13606C77_element_1505\")>]"
      ]
     },
     "execution_count": 134,
     "metadata": {},
     "output_type": "execute_result"
    }
   ],
   "source": [
    "#extracting  all the tags having the experience \n",
    "experience_t1=driver.find_elements(By.XPATH,\"//div[@class=' jobCard_jobCard_lists_item__YxRkV jobCard_jobIcon__3FB1t']\")\n",
    "experience_t1"
   ]
  },
  {
   "cell_type": "code",
   "execution_count": 150,
   "id": "f93401db",
   "metadata": {},
   "outputs": [
    {
     "data": {
      "text/plain": [
       "['4 to 9 Yrs',\n",
       " '0 to 1 Yr',\n",
       " '0 to 3 Yrs',\n",
       " '0 to 1 Yr',\n",
       " '3 to 6 Yrs',\n",
       " '3 to 6 Yrs',\n",
       " '3 to 6 Yrs',\n",
       " '3 to 6 Yrs',\n",
       " '0 to 2 Yrs',\n",
       " '0 to 4 Yrs']"
      ]
     },
     "execution_count": 150,
     "metadata": {},
     "output_type": "execute_result"
    }
   ],
   "source": [
    "#extracting the text  from these tags \n",
    "experience_list=[]\n",
    "for i in experience_t1:\n",
    "    experience_list.append(i.text)\n",
    "experience_list[:10] "
   ]
  },
  {
   "cell_type": "code",
   "execution_count": 180,
   "id": "ff936728",
   "metadata": {},
   "outputs": [
    {
     "data": {
      "text/plain": [
       "[<selenium.webdriver.remote.webelement.WebElement (session=\"c6034c15fdf9f6e083c81fef5763c26c\", element=\"0E04AA9ACD7BB540ABF827C63D4C37BD_element_674\")>,\n",
       " <selenium.webdriver.remote.webelement.WebElement (session=\"c6034c15fdf9f6e083c81fef5763c26c\", element=\"0E04AA9ACD7BB540ABF827C63D4C37BD_element_2359\")>,\n",
       " <selenium.webdriver.remote.webelement.WebElement (session=\"c6034c15fdf9f6e083c81fef5763c26c\", element=\"0E04AA9ACD7BB540ABF827C63D4C37BD_element_2360\")>,\n",
       " <selenium.webdriver.remote.webelement.WebElement (session=\"c6034c15fdf9f6e083c81fef5763c26c\", element=\"0E04AA9ACD7BB540ABF827C63D4C37BD_element_2361\")>,\n",
       " <selenium.webdriver.remote.webelement.WebElement (session=\"c6034c15fdf9f6e083c81fef5763c26c\", element=\"0E04AA9ACD7BB540ABF827C63D4C37BD_element_2362\")>,\n",
       " <selenium.webdriver.remote.webelement.WebElement (session=\"c6034c15fdf9f6e083c81fef5763c26c\", element=\"0E04AA9ACD7BB540ABF827C63D4C37BD_element_2363\")>,\n",
       " <selenium.webdriver.remote.webelement.WebElement (session=\"c6034c15fdf9f6e083c81fef5763c26c\", element=\"0E04AA9ACD7BB540ABF827C63D4C37BD_element_2364\")>,\n",
       " <selenium.webdriver.remote.webelement.WebElement (session=\"c6034c15fdf9f6e083c81fef5763c26c\", element=\"0E04AA9ACD7BB540ABF827C63D4C37BD_element_2365\")>,\n",
       " <selenium.webdriver.remote.webelement.WebElement (session=\"c6034c15fdf9f6e083c81fef5763c26c\", element=\"0E04AA9ACD7BB540ABF827C63D4C37BD_element_2366\")>,\n",
       " <selenium.webdriver.remote.webelement.WebElement (session=\"c6034c15fdf9f6e083c81fef5763c26c\", element=\"0E04AA9ACD7BB540ABF827C63D4C37BD_element_2367\")>,\n",
       " <selenium.webdriver.remote.webelement.WebElement (session=\"c6034c15fdf9f6e083c81fef5763c26c\", element=\"0E04AA9ACD7BB540ABF827C63D4C37BD_element_2368\")>,\n",
       " <selenium.webdriver.remote.webelement.WebElement (session=\"c6034c15fdf9f6e083c81fef5763c26c\", element=\"0E04AA9ACD7BB540ABF827C63D4C37BD_element_2369\")>,\n",
       " <selenium.webdriver.remote.webelement.WebElement (session=\"c6034c15fdf9f6e083c81fef5763c26c\", element=\"0E04AA9ACD7BB540ABF827C63D4C37BD_element_2370\")>,\n",
       " <selenium.webdriver.remote.webelement.WebElement (session=\"c6034c15fdf9f6e083c81fef5763c26c\", element=\"0E04AA9ACD7BB540ABF827C63D4C37BD_element_2371\")>,\n",
       " <selenium.webdriver.remote.webelement.WebElement (session=\"c6034c15fdf9f6e083c81fef5763c26c\", element=\"0E04AA9ACD7BB540ABF827C63D4C37BD_element_2372\")>,\n",
       " <selenium.webdriver.remote.webelement.WebElement (session=\"c6034c15fdf9f6e083c81fef5763c26c\", element=\"0E04AA9ACD7BB540ABF827C63D4C37BD_element_2373\")>,\n",
       " <selenium.webdriver.remote.webelement.WebElement (session=\"c6034c15fdf9f6e083c81fef5763c26c\", element=\"0E04AA9ACD7BB540ABF827C63D4C37BD_element_2374\")>,\n",
       " <selenium.webdriver.remote.webelement.WebElement (session=\"c6034c15fdf9f6e083c81fef5763c26c\", element=\"0E04AA9ACD7BB540ABF827C63D4C37BD_element_2375\")>,\n",
       " <selenium.webdriver.remote.webelement.WebElement (session=\"c6034c15fdf9f6e083c81fef5763c26c\", element=\"0E04AA9ACD7BB540ABF827C63D4C37BD_element_2376\")>,\n",
       " <selenium.webdriver.remote.webelement.WebElement (session=\"c6034c15fdf9f6e083c81fef5763c26c\", element=\"0E04AA9ACD7BB540ABF827C63D4C37BD_element_2377\")>]"
      ]
     },
     "execution_count": 180,
     "metadata": {},
     "output_type": "execute_result"
    }
   ],
   "source": [
    "locations_tags=driver.find_elements(By.XPATH,\"//div[@class=' jobCard_jobCard_lists_item__YxRkV jobCard_locationIcon__zrWt2']\")\n",
    "locations_tags"
   ]
  },
  {
   "cell_type": "code",
   "execution_count": 181,
   "id": "d88e1852",
   "metadata": {},
   "outputs": [
    {
     "data": {
      "text/plain": [
       "['Bangalore\\n+4',\n",
       " 'Bangalore',\n",
       " 'Bangalore\\n+1',\n",
       " 'Bangalore\\n+1',\n",
       " 'Bangalore\\n+14',\n",
       " 'Bangalore\\n+1',\n",
       " 'Bangalore\\n+7',\n",
       " 'Bangalore\\n+14',\n",
       " 'Bangalore\\n+2',\n",
       " 'Bangalore\\n+4']"
      ]
     },
     "execution_count": 181,
     "metadata": {},
     "output_type": "execute_result"
    }
   ],
   "source": [
    "locations_list=[]\n",
    "for i in locations_tags:\n",
    "    locations_list.append(i.text)\n",
    "locations_list[:10]"
   ]
  },
  {
   "cell_type": "code",
   "execution_count": 182,
   "id": "f0edd480",
   "metadata": {},
   "outputs": [
    {
     "name": "stdout",
     "output_type": "stream",
     "text": [
      "10\n",
      "10\n",
      "10\n",
      "10\n"
     ]
    },
    {
     "data": {
      "text/plain": [
       "(None, None, None, None)"
      ]
     },
     "execution_count": 182,
     "metadata": {},
     "output_type": "execute_result"
    }
   ],
   "source": [
    "#checking the length of each element\n",
    "print(len(job_titles[:10])),print(len(companies_names[:10])),print(len(experience_list[:10])),print(len(locations_list[:10]))"
   ]
  },
  {
   "cell_type": "code",
   "execution_count": 183,
   "id": "cd3e4dfd",
   "metadata": {},
   "outputs": [],
   "source": [
    "#making the dataframe\n",
    "jobs=pd.DataFrame({})\n",
    "jobs['title']=job_titles[:10]\n",
    "jobs['company']=companies_names[:10]\n",
    "jobs['experience_required']=experience_list[:10]\n",
    "jobs['location']=locations_list[:10]"
   ]
  },
  {
   "cell_type": "code",
   "execution_count": 184,
   "id": "879326ff",
   "metadata": {},
   "outputs": [
    {
     "data": {
      "text/html": [
       "<div>\n",
       "<style scoped>\n",
       "    .dataframe tbody tr th:only-of-type {\n",
       "        vertical-align: middle;\n",
       "    }\n",
       "\n",
       "    .dataframe tbody tr th {\n",
       "        vertical-align: top;\n",
       "    }\n",
       "\n",
       "    .dataframe thead th {\n",
       "        text-align: right;\n",
       "    }\n",
       "</style>\n",
       "<table border=\"1\" class=\"dataframe\">\n",
       "  <thead>\n",
       "    <tr style=\"text-align: right;\">\n",
       "      <th></th>\n",
       "      <th>title</th>\n",
       "      <th>company</th>\n",
       "      <th>experience_required</th>\n",
       "      <th>location</th>\n",
       "    </tr>\n",
       "  </thead>\n",
       "  <tbody>\n",
       "    <tr>\n",
       "      <th>0</th>\n",
       "      <td></td>\n",
       "      <td>acme services private limited</td>\n",
       "      <td>3 to 5 Yrs</td>\n",
       "      <td>Bangalore\\n+4</td>\n",
       "    </tr>\n",
       "    <tr>\n",
       "      <th>1</th>\n",
       "      <td></td>\n",
       "      <td>ltimindtree limited</td>\n",
       "      <td>6 to 8 Yrs</td>\n",
       "      <td>Bangalore</td>\n",
       "    </tr>\n",
       "    <tr>\n",
       "      <th>2</th>\n",
       "      <td>Data Scientist</td>\n",
       "      <td>fractal</td>\n",
       "      <td>5 to 9 Yrs</td>\n",
       "      <td>Bangalore\\n+1</td>\n",
       "    </tr>\n",
       "    <tr>\n",
       "      <th>3</th>\n",
       "      <td>Data Scientist</td>\n",
       "      <td>neostats</td>\n",
       "      <td>7 to 11 Yrs</td>\n",
       "      <td>Bangalore\\n+1</td>\n",
       "    </tr>\n",
       "    <tr>\n",
       "      <th>4</th>\n",
       "      <td>Lead Data Scientist/ Principal Data Scientist</td>\n",
       "      <td>yogita staffing solution</td>\n",
       "      <td>0 to 3 Yrs</td>\n",
       "      <td>Bangalore\\n+14</td>\n",
       "    </tr>\n",
       "    <tr>\n",
       "      <th>5</th>\n",
       "      <td>Senior Data Scientist</td>\n",
       "      <td>aereo</td>\n",
       "      <td>7 to 10 Yrs</td>\n",
       "      <td>Bangalore\\n+1</td>\n",
       "    </tr>\n",
       "    <tr>\n",
       "      <th>6</th>\n",
       "      <td>Vacancy For Data Scientist Fresher and Experience</td>\n",
       "      <td>people staffing solutions</td>\n",
       "      <td>4 to 9 Yrs</td>\n",
       "      <td>Bangalore\\n+7</td>\n",
       "    </tr>\n",
       "    <tr>\n",
       "      <th>7</th>\n",
       "      <td>Lead Data Scientist</td>\n",
       "      <td>yogita staffing solution</td>\n",
       "      <td>0 to 3 Yrs</td>\n",
       "      <td>Bangalore\\n+14</td>\n",
       "    </tr>\n",
       "    <tr>\n",
       "      <th>8</th>\n",
       "      <td>How relevant did you find the job search resul...</td>\n",
       "      <td>diraa hr services</td>\n",
       "      <td>0 to 4 Yrs</td>\n",
       "      <td>Bangalore\\n+2</td>\n",
       "    </tr>\n",
       "    <tr>\n",
       "      <th>9</th>\n",
       "      <td>Data Scientist</td>\n",
       "      <td>quiscon biotech</td>\n",
       "      <td>0 to 1 Yr</td>\n",
       "      <td>Bangalore\\n+4</td>\n",
       "    </tr>\n",
       "  </tbody>\n",
       "</table>\n",
       "</div>"
      ],
      "text/plain": [
       "                                               title  \\\n",
       "0                                                      \n",
       "1                                                      \n",
       "2                                     Data Scientist   \n",
       "3                                     Data Scientist   \n",
       "4      Lead Data Scientist/ Principal Data Scientist   \n",
       "5                              Senior Data Scientist   \n",
       "6  Vacancy For Data Scientist Fresher and Experience   \n",
       "7                                Lead Data Scientist   \n",
       "8  How relevant did you find the job search resul...   \n",
       "9                                     Data Scientist   \n",
       "\n",
       "                         company experience_required        location  \n",
       "0  acme services private limited          3 to 5 Yrs   Bangalore\\n+4  \n",
       "1            ltimindtree limited          6 to 8 Yrs       Bangalore  \n",
       "2                        fractal          5 to 9 Yrs   Bangalore\\n+1  \n",
       "3                       neostats         7 to 11 Yrs   Bangalore\\n+1  \n",
       "4       yogita staffing solution          0 to 3 Yrs  Bangalore\\n+14  \n",
       "5                          aereo         7 to 10 Yrs   Bangalore\\n+1  \n",
       "6      people staffing solutions          4 to 9 Yrs   Bangalore\\n+7  \n",
       "7       yogita staffing solution          0 to 3 Yrs  Bangalore\\n+14  \n",
       "8              diraa hr services          0 to 4 Yrs   Bangalore\\n+2  \n",
       "9                quiscon biotech           0 to 1 Yr   Bangalore\\n+4  "
      ]
     },
     "execution_count": 184,
     "metadata": {},
     "output_type": "execute_result"
    }
   ],
   "source": [
    "jobs"
   ]
  },
  {
   "cell_type": "markdown",
   "id": "842bddcc",
   "metadata": {},
   "source": [
    "# Question 2"
   ]
  },
  {
   "cell_type": "code",
   "execution_count": 165,
   "id": "8f0dcbc2",
   "metadata": {},
   "outputs": [],
   "source": [
    "driver=webdriver.Chrome()"
   ]
  },
  {
   "cell_type": "code",
   "execution_count": 166,
   "id": "450f2e15",
   "metadata": {},
   "outputs": [],
   "source": [
    "driver.get(\"https://www.shine.com/\")"
   ]
  },
  {
   "cell_type": "code",
   "execution_count": 169,
   "id": "89e52808",
   "metadata": {},
   "outputs": [],
   "source": [
    "designation=driver.find_element(By.CLASS_NAME,\"form-control\")\n",
    "designation.send_keys('Data Scientist')"
   ]
  },
  {
   "cell_type": "code",
   "execution_count": 170,
   "id": "5ee30e19",
   "metadata": {},
   "outputs": [],
   "source": [
    "location=driver.find_element(By.XPATH,'/html/body/div/div[4]/div/div[2]/div[2]/div/form/div/div[1]/ul/li[2]/div/input')\n",
    "location.send_keys('Bangalore')"
   ]
  },
  {
   "cell_type": "code",
   "execution_count": 171,
   "id": "abb7c0ae",
   "metadata": {},
   "outputs": [],
   "source": [
    "search=driver.find_element(By.CLASS_NAME,\"searchForm_btnWrap_advance__VYBHN\")\n",
    "search.click()"
   ]
  },
  {
   "cell_type": "code",
   "execution_count": 172,
   "id": "fac02bcf",
   "metadata": {},
   "outputs": [
    {
     "data": {
      "text/plain": [
       "[<selenium.webdriver.remote.webelement.WebElement (session=\"c6034c15fdf9f6e083c81fef5763c26c\", element=\"0E04AA9ACD7BB540ABF827C63D4C37BD_element_1022\")>,\n",
       " <selenium.webdriver.remote.webelement.WebElement (session=\"c6034c15fdf9f6e083c81fef5763c26c\", element=\"0E04AA9ACD7BB540ABF827C63D4C37BD_element_1040\")>,\n",
       " <selenium.webdriver.remote.webelement.WebElement (session=\"c6034c15fdf9f6e083c81fef5763c26c\", element=\"0E04AA9ACD7BB540ABF827C63D4C37BD_element_2131\")>,\n",
       " <selenium.webdriver.remote.webelement.WebElement (session=\"c6034c15fdf9f6e083c81fef5763c26c\", element=\"0E04AA9ACD7BB540ABF827C63D4C37BD_element_2301\")>,\n",
       " <selenium.webdriver.remote.webelement.WebElement (session=\"c6034c15fdf9f6e083c81fef5763c26c\", element=\"0E04AA9ACD7BB540ABF827C63D4C37BD_element_2302\")>,\n",
       " <selenium.webdriver.remote.webelement.WebElement (session=\"c6034c15fdf9f6e083c81fef5763c26c\", element=\"0E04AA9ACD7BB540ABF827C63D4C37BD_element_2303\")>,\n",
       " <selenium.webdriver.remote.webelement.WebElement (session=\"c6034c15fdf9f6e083c81fef5763c26c\", element=\"0E04AA9ACD7BB540ABF827C63D4C37BD_element_2304\")>,\n",
       " <selenium.webdriver.remote.webelement.WebElement (session=\"c6034c15fdf9f6e083c81fef5763c26c\", element=\"0E04AA9ACD7BB540ABF827C63D4C37BD_element_2305\")>,\n",
       " <selenium.webdriver.remote.webelement.WebElement (session=\"c6034c15fdf9f6e083c81fef5763c26c\", element=\"0E04AA9ACD7BB540ABF827C63D4C37BD_element_2306\")>,\n",
       " <selenium.webdriver.remote.webelement.WebElement (session=\"c6034c15fdf9f6e083c81fef5763c26c\", element=\"0E04AA9ACD7BB540ABF827C63D4C37BD_element_2307\")>,\n",
       " <selenium.webdriver.remote.webelement.WebElement (session=\"c6034c15fdf9f6e083c81fef5763c26c\", element=\"0E04AA9ACD7BB540ABF827C63D4C37BD_element_2308\")>,\n",
       " <selenium.webdriver.remote.webelement.WebElement (session=\"c6034c15fdf9f6e083c81fef5763c26c\", element=\"0E04AA9ACD7BB540ABF827C63D4C37BD_element_2309\")>,\n",
       " <selenium.webdriver.remote.webelement.WebElement (session=\"c6034c15fdf9f6e083c81fef5763c26c\", element=\"0E04AA9ACD7BB540ABF827C63D4C37BD_element_2310\")>,\n",
       " <selenium.webdriver.remote.webelement.WebElement (session=\"c6034c15fdf9f6e083c81fef5763c26c\", element=\"0E04AA9ACD7BB540ABF827C63D4C37BD_element_2311\")>,\n",
       " <selenium.webdriver.remote.webelement.WebElement (session=\"c6034c15fdf9f6e083c81fef5763c26c\", element=\"0E04AA9ACD7BB540ABF827C63D4C37BD_element_2312\")>,\n",
       " <selenium.webdriver.remote.webelement.WebElement (session=\"c6034c15fdf9f6e083c81fef5763c26c\", element=\"0E04AA9ACD7BB540ABF827C63D4C37BD_element_2313\")>,\n",
       " <selenium.webdriver.remote.webelement.WebElement (session=\"c6034c15fdf9f6e083c81fef5763c26c\", element=\"0E04AA9ACD7BB540ABF827C63D4C37BD_element_2314\")>,\n",
       " <selenium.webdriver.remote.webelement.WebElement (session=\"c6034c15fdf9f6e083c81fef5763c26c\", element=\"0E04AA9ACD7BB540ABF827C63D4C37BD_element_2315\")>,\n",
       " <selenium.webdriver.remote.webelement.WebElement (session=\"c6034c15fdf9f6e083c81fef5763c26c\", element=\"0E04AA9ACD7BB540ABF827C63D4C37BD_element_2316\")>,\n",
       " <selenium.webdriver.remote.webelement.WebElement (session=\"c6034c15fdf9f6e083c81fef5763c26c\", element=\"0E04AA9ACD7BB540ABF827C63D4C37BD_element_2317\")>,\n",
       " <selenium.webdriver.remote.webelement.WebElement (session=\"c6034c15fdf9f6e083c81fef5763c26c\", element=\"0E04AA9ACD7BB540ABF827C63D4C37BD_element_2318\")>,\n",
       " <selenium.webdriver.remote.webelement.WebElement (session=\"c6034c15fdf9f6e083c81fef5763c26c\", element=\"0E04AA9ACD7BB540ABF827C63D4C37BD_element_2319\")>,\n",
       " <selenium.webdriver.remote.webelement.WebElement (session=\"c6034c15fdf9f6e083c81fef5763c26c\", element=\"0E04AA9ACD7BB540ABF827C63D4C37BD_element_2320\")>]"
      ]
     },
     "execution_count": 172,
     "metadata": {},
     "output_type": "execute_result"
    }
   ],
   "source": [
    "title_t1=driver.find_elements(By.TAG_NAME,\"h2\")\n",
    "title_t1"
   ]
  },
  {
   "cell_type": "code",
   "execution_count": 173,
   "id": "a0fff736",
   "metadata": {},
   "outputs": [
    {
     "data": {
      "text/plain": [
       "['',\n",
       " '',\n",
       " 'Data Scientist',\n",
       " 'Data Scientist',\n",
       " 'Lead Data Scientist/ Principal Data Scientist',\n",
       " 'Senior Data Scientist',\n",
       " 'Vacancy For Data Scientist Fresher and Experience',\n",
       " 'Lead Data Scientist',\n",
       " 'How relevant did you find the job search results ?',\n",
       " 'Data Scientist']"
      ]
     },
     "execution_count": 173,
     "metadata": {},
     "output_type": "execute_result"
    }
   ],
   "source": [
    "# extracting the text of the job title  \n",
    "job_titles=[]\n",
    "for i in title_t1:\n",
    "    if i.text is None:\n",
    "        job_titles.append('Not')\n",
    "    else:\n",
    "        job_titles.append(i.text)\n",
    "job_titles[:10] "
   ]
  },
  {
   "cell_type": "code",
   "execution_count": 174,
   "id": "dd420890",
   "metadata": {},
   "outputs": [
    {
     "data": {
      "text/plain": [
       "[<selenium.webdriver.remote.webelement.WebElement (session=\"c6034c15fdf9f6e083c81fef5763c26c\", element=\"0E04AA9ACD7BB540ABF827C63D4C37BD_element_2132\")>,\n",
       " <selenium.webdriver.remote.webelement.WebElement (session=\"c6034c15fdf9f6e083c81fef5763c26c\", element=\"0E04AA9ACD7BB540ABF827C63D4C37BD_element_2321\")>,\n",
       " <selenium.webdriver.remote.webelement.WebElement (session=\"c6034c15fdf9f6e083c81fef5763c26c\", element=\"0E04AA9ACD7BB540ABF827C63D4C37BD_element_2322\")>,\n",
       " <selenium.webdriver.remote.webelement.WebElement (session=\"c6034c15fdf9f6e083c81fef5763c26c\", element=\"0E04AA9ACD7BB540ABF827C63D4C37BD_element_2323\")>,\n",
       " <selenium.webdriver.remote.webelement.WebElement (session=\"c6034c15fdf9f6e083c81fef5763c26c\", element=\"0E04AA9ACD7BB540ABF827C63D4C37BD_element_2324\")>,\n",
       " <selenium.webdriver.remote.webelement.WebElement (session=\"c6034c15fdf9f6e083c81fef5763c26c\", element=\"0E04AA9ACD7BB540ABF827C63D4C37BD_element_2325\")>,\n",
       " <selenium.webdriver.remote.webelement.WebElement (session=\"c6034c15fdf9f6e083c81fef5763c26c\", element=\"0E04AA9ACD7BB540ABF827C63D4C37BD_element_2326\")>,\n",
       " <selenium.webdriver.remote.webelement.WebElement (session=\"c6034c15fdf9f6e083c81fef5763c26c\", element=\"0E04AA9ACD7BB540ABF827C63D4C37BD_element_2327\")>,\n",
       " <selenium.webdriver.remote.webelement.WebElement (session=\"c6034c15fdf9f6e083c81fef5763c26c\", element=\"0E04AA9ACD7BB540ABF827C63D4C37BD_element_2328\")>,\n",
       " <selenium.webdriver.remote.webelement.WebElement (session=\"c6034c15fdf9f6e083c81fef5763c26c\", element=\"0E04AA9ACD7BB540ABF827C63D4C37BD_element_2329\")>,\n",
       " <selenium.webdriver.remote.webelement.WebElement (session=\"c6034c15fdf9f6e083c81fef5763c26c\", element=\"0E04AA9ACD7BB540ABF827C63D4C37BD_element_2330\")>,\n",
       " <selenium.webdriver.remote.webelement.WebElement (session=\"c6034c15fdf9f6e083c81fef5763c26c\", element=\"0E04AA9ACD7BB540ABF827C63D4C37BD_element_2331\")>,\n",
       " <selenium.webdriver.remote.webelement.WebElement (session=\"c6034c15fdf9f6e083c81fef5763c26c\", element=\"0E04AA9ACD7BB540ABF827C63D4C37BD_element_2332\")>,\n",
       " <selenium.webdriver.remote.webelement.WebElement (session=\"c6034c15fdf9f6e083c81fef5763c26c\", element=\"0E04AA9ACD7BB540ABF827C63D4C37BD_element_2333\")>,\n",
       " <selenium.webdriver.remote.webelement.WebElement (session=\"c6034c15fdf9f6e083c81fef5763c26c\", element=\"0E04AA9ACD7BB540ABF827C63D4C37BD_element_2334\")>,\n",
       " <selenium.webdriver.remote.webelement.WebElement (session=\"c6034c15fdf9f6e083c81fef5763c26c\", element=\"0E04AA9ACD7BB540ABF827C63D4C37BD_element_2335\")>,\n",
       " <selenium.webdriver.remote.webelement.WebElement (session=\"c6034c15fdf9f6e083c81fef5763c26c\", element=\"0E04AA9ACD7BB540ABF827C63D4C37BD_element_2336\")>,\n",
       " <selenium.webdriver.remote.webelement.WebElement (session=\"c6034c15fdf9f6e083c81fef5763c26c\", element=\"0E04AA9ACD7BB540ABF827C63D4C37BD_element_2337\")>,\n",
       " <selenium.webdriver.remote.webelement.WebElement (session=\"c6034c15fdf9f6e083c81fef5763c26c\", element=\"0E04AA9ACD7BB540ABF827C63D4C37BD_element_2338\")>,\n",
       " <selenium.webdriver.remote.webelement.WebElement (session=\"c6034c15fdf9f6e083c81fef5763c26c\", element=\"0E04AA9ACD7BB540ABF827C63D4C37BD_element_2339\")>]"
      ]
     },
     "execution_count": 174,
     "metadata": {},
     "output_type": "execute_result"
    }
   ],
   "source": [
    "# extracting all the tags having company names\n",
    "company_t1=driver.find_elements(By.XPATH,\"//div[@class='jobCard_jobCard_cName__mYnow']\")\n",
    "company_t1"
   ]
  },
  {
   "cell_type": "code",
   "execution_count": 175,
   "id": "354181cd",
   "metadata": {},
   "outputs": [
    {
     "data": {
      "text/plain": [
       "['acme services private limited',\n",
       " 'ltimindtree limited',\n",
       " 'fractal',\n",
       " 'neostats',\n",
       " 'yogita staffing solution',\n",
       " 'aereo',\n",
       " 'people staffing solutions',\n",
       " 'yogita staffing solution',\n",
       " 'diraa hr services',\n",
       " 'quiscon biotech']"
      ]
     },
     "execution_count": 175,
     "metadata": {},
     "output_type": "execute_result"
    }
   ],
   "source": [
    "#extracting the text from the tags \n",
    "companies_names=[]\n",
    "\n",
    "for i in company_t1:\n",
    "    companies_names.append(i.text)\n",
    "companies_names[:10]  "
   ]
  },
  {
   "cell_type": "code",
   "execution_count": 178,
   "id": "6624ac9a",
   "metadata": {},
   "outputs": [
    {
     "data": {
      "text/plain": [
       "[<selenium.webdriver.remote.webelement.WebElement (session=\"c6034c15fdf9f6e083c81fef5763c26c\", element=\"0E04AA9ACD7BB540ABF827C63D4C37BD_element_674\")>,\n",
       " <selenium.webdriver.remote.webelement.WebElement (session=\"c6034c15fdf9f6e083c81fef5763c26c\", element=\"0E04AA9ACD7BB540ABF827C63D4C37BD_element_2359\")>,\n",
       " <selenium.webdriver.remote.webelement.WebElement (session=\"c6034c15fdf9f6e083c81fef5763c26c\", element=\"0E04AA9ACD7BB540ABF827C63D4C37BD_element_2360\")>,\n",
       " <selenium.webdriver.remote.webelement.WebElement (session=\"c6034c15fdf9f6e083c81fef5763c26c\", element=\"0E04AA9ACD7BB540ABF827C63D4C37BD_element_2361\")>,\n",
       " <selenium.webdriver.remote.webelement.WebElement (session=\"c6034c15fdf9f6e083c81fef5763c26c\", element=\"0E04AA9ACD7BB540ABF827C63D4C37BD_element_2362\")>,\n",
       " <selenium.webdriver.remote.webelement.WebElement (session=\"c6034c15fdf9f6e083c81fef5763c26c\", element=\"0E04AA9ACD7BB540ABF827C63D4C37BD_element_2363\")>,\n",
       " <selenium.webdriver.remote.webelement.WebElement (session=\"c6034c15fdf9f6e083c81fef5763c26c\", element=\"0E04AA9ACD7BB540ABF827C63D4C37BD_element_2364\")>,\n",
       " <selenium.webdriver.remote.webelement.WebElement (session=\"c6034c15fdf9f6e083c81fef5763c26c\", element=\"0E04AA9ACD7BB540ABF827C63D4C37BD_element_2365\")>,\n",
       " <selenium.webdriver.remote.webelement.WebElement (session=\"c6034c15fdf9f6e083c81fef5763c26c\", element=\"0E04AA9ACD7BB540ABF827C63D4C37BD_element_2366\")>,\n",
       " <selenium.webdriver.remote.webelement.WebElement (session=\"c6034c15fdf9f6e083c81fef5763c26c\", element=\"0E04AA9ACD7BB540ABF827C63D4C37BD_element_2367\")>,\n",
       " <selenium.webdriver.remote.webelement.WebElement (session=\"c6034c15fdf9f6e083c81fef5763c26c\", element=\"0E04AA9ACD7BB540ABF827C63D4C37BD_element_2368\")>,\n",
       " <selenium.webdriver.remote.webelement.WebElement (session=\"c6034c15fdf9f6e083c81fef5763c26c\", element=\"0E04AA9ACD7BB540ABF827C63D4C37BD_element_2369\")>,\n",
       " <selenium.webdriver.remote.webelement.WebElement (session=\"c6034c15fdf9f6e083c81fef5763c26c\", element=\"0E04AA9ACD7BB540ABF827C63D4C37BD_element_2370\")>,\n",
       " <selenium.webdriver.remote.webelement.WebElement (session=\"c6034c15fdf9f6e083c81fef5763c26c\", element=\"0E04AA9ACD7BB540ABF827C63D4C37BD_element_2371\")>,\n",
       " <selenium.webdriver.remote.webelement.WebElement (session=\"c6034c15fdf9f6e083c81fef5763c26c\", element=\"0E04AA9ACD7BB540ABF827C63D4C37BD_element_2372\")>,\n",
       " <selenium.webdriver.remote.webelement.WebElement (session=\"c6034c15fdf9f6e083c81fef5763c26c\", element=\"0E04AA9ACD7BB540ABF827C63D4C37BD_element_2373\")>,\n",
       " <selenium.webdriver.remote.webelement.WebElement (session=\"c6034c15fdf9f6e083c81fef5763c26c\", element=\"0E04AA9ACD7BB540ABF827C63D4C37BD_element_2374\")>,\n",
       " <selenium.webdriver.remote.webelement.WebElement (session=\"c6034c15fdf9f6e083c81fef5763c26c\", element=\"0E04AA9ACD7BB540ABF827C63D4C37BD_element_2375\")>,\n",
       " <selenium.webdriver.remote.webelement.WebElement (session=\"c6034c15fdf9f6e083c81fef5763c26c\", element=\"0E04AA9ACD7BB540ABF827C63D4C37BD_element_2376\")>,\n",
       " <selenium.webdriver.remote.webelement.WebElement (session=\"c6034c15fdf9f6e083c81fef5763c26c\", element=\"0E04AA9ACD7BB540ABF827C63D4C37BD_element_2377\")>]"
      ]
     },
     "execution_count": 178,
     "metadata": {},
     "output_type": "execute_result"
    }
   ],
   "source": [
    "# extracting all the tags having location names\n",
    "locations_tags=driver.find_elements(By.XPATH,\"//div[@class=' jobCard_jobCard_lists_item__YxRkV jobCard_locationIcon__zrWt2']\")\n",
    "locations_tags"
   ]
  },
  {
   "cell_type": "code",
   "execution_count": 179,
   "id": "a506e621",
   "metadata": {},
   "outputs": [
    {
     "data": {
      "text/plain": [
       "['Bangalore\\n+4',\n",
       " 'Bangalore',\n",
       " 'Bangalore\\n+1',\n",
       " 'Bangalore\\n+1',\n",
       " 'Bangalore\\n+14',\n",
       " 'Bangalore\\n+1',\n",
       " 'Bangalore\\n+7',\n",
       " 'Bangalore\\n+14',\n",
       " 'Bangalore\\n+2',\n",
       " 'Bangalore\\n+4']"
      ]
     },
     "execution_count": 179,
     "metadata": {},
     "output_type": "execute_result"
    }
   ],
   "source": [
    "locations_list=[]\n",
    "for i in locations_tags:\n",
    "    locations_list.append(i.text)\n",
    "locations_list[:10]  "
   ]
  },
  {
   "cell_type": "code",
   "execution_count": 185,
   "id": "5bf65806",
   "metadata": {},
   "outputs": [
    {
     "name": "stdout",
     "output_type": "stream",
     "text": [
      "10\n",
      "10\n",
      "10\n"
     ]
    },
    {
     "data": {
      "text/plain": [
       "(None, None, None)"
      ]
     },
     "execution_count": 185,
     "metadata": {},
     "output_type": "execute_result"
    }
   ],
   "source": [
    "#checking the length of each element\n",
    "print(len(job_titles[:10])),print(len(companies_names[:10])),print(len(locations_list[:10]))"
   ]
  },
  {
   "cell_type": "code",
   "execution_count": 230,
   "id": "7b2b6a7a",
   "metadata": {},
   "outputs": [],
   "source": [
    "#making the dataframe\n",
    "jobs=pd.DataFrame({})\n",
    "jobs['title']=job_titles[:10]\n",
    "jobs['company']=companies_names[:10]\n",
    "jobs['location']=locations_list[:10]"
   ]
  },
  {
   "cell_type": "code",
   "execution_count": 231,
   "id": "32d5b788",
   "metadata": {},
   "outputs": [
    {
     "data": {
      "text/html": [
       "<div>\n",
       "<style scoped>\n",
       "    .dataframe tbody tr th:only-of-type {\n",
       "        vertical-align: middle;\n",
       "    }\n",
       "\n",
       "    .dataframe tbody tr th {\n",
       "        vertical-align: top;\n",
       "    }\n",
       "\n",
       "    .dataframe thead th {\n",
       "        text-align: right;\n",
       "    }\n",
       "</style>\n",
       "<table border=\"1\" class=\"dataframe\">\n",
       "  <thead>\n",
       "    <tr style=\"text-align: right;\">\n",
       "      <th></th>\n",
       "      <th>title</th>\n",
       "      <th>company</th>\n",
       "      <th>location</th>\n",
       "    </tr>\n",
       "  </thead>\n",
       "  <tbody>\n",
       "    <tr>\n",
       "      <th>0</th>\n",
       "      <td></td>\n",
       "      <td>flipped.ai - transforming talent ac...</td>\n",
       "      <td>Other Maharashtra\\n+1</td>\n",
       "    </tr>\n",
       "    <tr>\n",
       "      <th>1</th>\n",
       "      <td></td>\n",
       "      <td>surveysparrow</td>\n",
       "      <td>Chennai\\n+1</td>\n",
       "    </tr>\n",
       "    <tr>\n",
       "      <th>2</th>\n",
       "      <td>Data Scientist</td>\n",
       "      <td>electronic arts (ea)</td>\n",
       "      <td>Hyderabad\\n+1</td>\n",
       "    </tr>\n",
       "    <tr>\n",
       "      <th>3</th>\n",
       "      <td>Senior Data Scientist</td>\n",
       "      <td>carnot technologies</td>\n",
       "      <td>Other Maharashtra</td>\n",
       "    </tr>\n",
       "    <tr>\n",
       "      <th>4</th>\n",
       "      <td>Senior Data Scientist</td>\n",
       "      <td>razormet technologies</td>\n",
       "      <td>Other Maharashtra\\n+1</td>\n",
       "    </tr>\n",
       "    <tr>\n",
       "      <th>5</th>\n",
       "      <td>Sr. Data Scientist IoT data &amp; Satellite Analytics</td>\n",
       "      <td>ayruz data marketing</td>\n",
       "      <td>All India</td>\n",
       "    </tr>\n",
       "    <tr>\n",
       "      <th>6</th>\n",
       "      <td>Data Analyst / Data Scientist (Fresher Only)-</td>\n",
       "      <td>awign</td>\n",
       "      <td>Other Maharashtra</td>\n",
       "    </tr>\n",
       "    <tr>\n",
       "      <th>7</th>\n",
       "      <td>Data Scientist</td>\n",
       "      <td>3ghr services</td>\n",
       "      <td>Other Maharashtra</td>\n",
       "    </tr>\n",
       "    <tr>\n",
       "      <th>8</th>\n",
       "      <td>How relevant did you find the job search resul...</td>\n",
       "      <td>ep soft pvt. ltd.</td>\n",
       "      <td>Jaipur\\n+1</td>\n",
       "    </tr>\n",
       "    <tr>\n",
       "      <th>9</th>\n",
       "      <td>Sr. Data Scientist</td>\n",
       "      <td>aidash</td>\n",
       "      <td>Other Karnataka</td>\n",
       "    </tr>\n",
       "  </tbody>\n",
       "</table>\n",
       "</div>"
      ],
      "text/plain": [
       "                                               title  \\\n",
       "0                                                      \n",
       "1                                                      \n",
       "2                                     Data Scientist   \n",
       "3                              Senior Data Scientist   \n",
       "4                              Senior Data Scientist   \n",
       "5  Sr. Data Scientist IoT data & Satellite Analytics   \n",
       "6      Data Analyst / Data Scientist (Fresher Only)-   \n",
       "7                                     Data Scientist   \n",
       "8  How relevant did you find the job search resul...   \n",
       "9                                 Sr. Data Scientist   \n",
       "\n",
       "                                  company               location  \n",
       "0  flipped.ai - transforming talent ac...  Other Maharashtra\\n+1  \n",
       "1                           surveysparrow            Chennai\\n+1  \n",
       "2                    electronic arts (ea)          Hyderabad\\n+1  \n",
       "3                     carnot technologies      Other Maharashtra  \n",
       "4                   razormet technologies  Other Maharashtra\\n+1  \n",
       "5                    ayruz data marketing              All India  \n",
       "6                                   awign      Other Maharashtra  \n",
       "7                           3ghr services      Other Maharashtra  \n",
       "8                       ep soft pvt. ltd.             Jaipur\\n+1  \n",
       "9                                  aidash        Other Karnataka  "
      ]
     },
     "execution_count": 231,
     "metadata": {},
     "output_type": "execute_result"
    }
   ],
   "source": [
    "jobs"
   ]
  },
  {
   "cell_type": "markdown",
   "id": "5760be69",
   "metadata": {},
   "source": [
    "# Question 3"
   ]
  },
  {
   "cell_type": "code",
   "execution_count": 208,
   "id": "34c6c2f8",
   "metadata": {},
   "outputs": [],
   "source": [
    "driver=webdriver.Chrome()"
   ]
  },
  {
   "cell_type": "code",
   "execution_count": 209,
   "id": "798d848d",
   "metadata": {},
   "outputs": [],
   "source": [
    "driver.get(\"https://www.shine.com/\")"
   ]
  },
  {
   "cell_type": "code",
   "execution_count": 210,
   "id": "284b1ce0",
   "metadata": {},
   "outputs": [],
   "source": [
    "designation=driver.find_element(By.CLASS_NAME,\"form-control\")\n",
    "designation.send_keys('Data Scientist')"
   ]
  },
  {
   "cell_type": "code",
   "execution_count": 211,
   "id": "9b03a1ad",
   "metadata": {},
   "outputs": [],
   "source": [
    "location=driver.find_element(By.XPATH,'/html/body/div/div[4]/div/div[2]/div[2]/div/form/div/div[1]/ul/li[2]/div/input')\n",
    "location.send_keys('Delhi/NCR')"
   ]
  },
  {
   "cell_type": "code",
   "execution_count": 213,
   "id": "ff25809e",
   "metadata": {},
   "outputs": [],
   "source": [
    "search=driver.find_element(By.CLASS_NAME,\"searchForm_btnWrap_advance__VYBHN\")\n",
    "search.click()"
   ]
  },
  {
   "cell_type": "code",
   "execution_count": 194,
   "id": "694617a3",
   "metadata": {},
   "outputs": [
    {
     "data": {
      "text/plain": [
       "<selenium.webdriver.remote.webelement.WebElement (session=\"3a3be6398a5c3dd77bfca52fdafe1d8d\", element=\"22975E45FD02138B25DC89FBF08A15A2_element_2349\")>"
      ]
     },
     "execution_count": 194,
     "metadata": {},
     "output_type": "execute_result"
    }
   ],
   "source": [
    "salary=driver.find_element(By.XPATH,\"//label[@class='filter_filter_option_label__v_iAW']\")\n",
    "salary"
   ]
  },
  {
   "cell_type": "code",
   "execution_count": 195,
   "id": "767204fa",
   "metadata": {},
   "outputs": [],
   "source": [
    "result=driver.find_element(By.XPATH,\"/html/body/div[3]/div/div/div/div[4]/button[2]\")\n",
    "result.click()"
   ]
  },
  {
   "cell_type": "code",
   "execution_count": 214,
   "id": "9074d41d",
   "metadata": {},
   "outputs": [
    {
     "data": {
      "text/plain": [
       "[<selenium.webdriver.remote.webelement.WebElement (session=\"7c30aa77e6dfe5df173e29fb6f804710\", element=\"FE69AFAFB7249B7FCD09165065C86579_element_152\")>,\n",
       " <selenium.webdriver.remote.webelement.WebElement (session=\"7c30aa77e6dfe5df173e29fb6f804710\", element=\"FE69AFAFB7249B7FCD09165065C86579_element_153\")>,\n",
       " <selenium.webdriver.remote.webelement.WebElement (session=\"7c30aa77e6dfe5df173e29fb6f804710\", element=\"FE69AFAFB7249B7FCD09165065C86579_element_154\")>,\n",
       " <selenium.webdriver.remote.webelement.WebElement (session=\"7c30aa77e6dfe5df173e29fb6f804710\", element=\"FE69AFAFB7249B7FCD09165065C86579_element_155\")>,\n",
       " <selenium.webdriver.remote.webelement.WebElement (session=\"7c30aa77e6dfe5df173e29fb6f804710\", element=\"FE69AFAFB7249B7FCD09165065C86579_element_156\")>,\n",
       " <selenium.webdriver.remote.webelement.WebElement (session=\"7c30aa77e6dfe5df173e29fb6f804710\", element=\"FE69AFAFB7249B7FCD09165065C86579_element_157\")>,\n",
       " <selenium.webdriver.remote.webelement.WebElement (session=\"7c30aa77e6dfe5df173e29fb6f804710\", element=\"FE69AFAFB7249B7FCD09165065C86579_element_158\")>,\n",
       " <selenium.webdriver.remote.webelement.WebElement (session=\"7c30aa77e6dfe5df173e29fb6f804710\", element=\"FE69AFAFB7249B7FCD09165065C86579_element_159\")>,\n",
       " <selenium.webdriver.remote.webelement.WebElement (session=\"7c30aa77e6dfe5df173e29fb6f804710\", element=\"FE69AFAFB7249B7FCD09165065C86579_element_160\")>,\n",
       " <selenium.webdriver.remote.webelement.WebElement (session=\"7c30aa77e6dfe5df173e29fb6f804710\", element=\"FE69AFAFB7249B7FCD09165065C86579_element_161\")>,\n",
       " <selenium.webdriver.remote.webelement.WebElement (session=\"7c30aa77e6dfe5df173e29fb6f804710\", element=\"FE69AFAFB7249B7FCD09165065C86579_element_162\")>,\n",
       " <selenium.webdriver.remote.webelement.WebElement (session=\"7c30aa77e6dfe5df173e29fb6f804710\", element=\"FE69AFAFB7249B7FCD09165065C86579_element_163\")>,\n",
       " <selenium.webdriver.remote.webelement.WebElement (session=\"7c30aa77e6dfe5df173e29fb6f804710\", element=\"FE69AFAFB7249B7FCD09165065C86579_element_164\")>,\n",
       " <selenium.webdriver.remote.webelement.WebElement (session=\"7c30aa77e6dfe5df173e29fb6f804710\", element=\"FE69AFAFB7249B7FCD09165065C86579_element_165\")>,\n",
       " <selenium.webdriver.remote.webelement.WebElement (session=\"7c30aa77e6dfe5df173e29fb6f804710\", element=\"FE69AFAFB7249B7FCD09165065C86579_element_166\")>,\n",
       " <selenium.webdriver.remote.webelement.WebElement (session=\"7c30aa77e6dfe5df173e29fb6f804710\", element=\"FE69AFAFB7249B7FCD09165065C86579_element_167\")>,\n",
       " <selenium.webdriver.remote.webelement.WebElement (session=\"7c30aa77e6dfe5df173e29fb6f804710\", element=\"FE69AFAFB7249B7FCD09165065C86579_element_168\")>,\n",
       " <selenium.webdriver.remote.webelement.WebElement (session=\"7c30aa77e6dfe5df173e29fb6f804710\", element=\"FE69AFAFB7249B7FCD09165065C86579_element_169\")>,\n",
       " <selenium.webdriver.remote.webelement.WebElement (session=\"7c30aa77e6dfe5df173e29fb6f804710\", element=\"FE69AFAFB7249B7FCD09165065C86579_element_170\")>,\n",
       " <selenium.webdriver.remote.webelement.WebElement (session=\"7c30aa77e6dfe5df173e29fb6f804710\", element=\"FE69AFAFB7249B7FCD09165065C86579_element_171\")>,\n",
       " <selenium.webdriver.remote.webelement.WebElement (session=\"7c30aa77e6dfe5df173e29fb6f804710\", element=\"FE69AFAFB7249B7FCD09165065C86579_element_172\")>,\n",
       " <selenium.webdriver.remote.webelement.WebElement (session=\"7c30aa77e6dfe5df173e29fb6f804710\", element=\"FE69AFAFB7249B7FCD09165065C86579_element_173\")>,\n",
       " <selenium.webdriver.remote.webelement.WebElement (session=\"7c30aa77e6dfe5df173e29fb6f804710\", element=\"FE69AFAFB7249B7FCD09165065C86579_element_174\")>]"
      ]
     },
     "execution_count": 214,
     "metadata": {},
     "output_type": "execute_result"
    }
   ],
   "source": [
    "title_t1=driver.find_elements(By.TAG_NAME,\"h2\")\n",
    "title_t1"
   ]
  },
  {
   "cell_type": "code",
   "execution_count": 215,
   "id": "ab07d5c9",
   "metadata": {},
   "outputs": [
    {
     "data": {
      "text/plain": [
       "['',\n",
       " '',\n",
       " 'Data Scientist',\n",
       " 'Senior Data Scientist',\n",
       " 'Senior Data Scientist',\n",
       " 'Sr. Data Scientist IoT data & Satellite Analytics',\n",
       " 'Data Analyst / Data Scientist (Fresher Only)-',\n",
       " 'Data Scientist',\n",
       " 'How relevant did you find the job search results ?',\n",
       " 'Sr. Data Scientist']"
      ]
     },
     "execution_count": 215,
     "metadata": {},
     "output_type": "execute_result"
    }
   ],
   "source": [
    "# extracting the text of the job title  \n",
    "job_titles=[]\n",
    "for i in title_t1:\n",
    "    if i.text is None:\n",
    "        job_titles.append('Not')\n",
    "    else:\n",
    "        job_titles.append(i.text)\n",
    "job_titles[:10] "
   ]
  },
  {
   "cell_type": "code",
   "execution_count": 216,
   "id": "41b8a5b1",
   "metadata": {},
   "outputs": [
    {
     "data": {
      "text/plain": [
       "[<selenium.webdriver.remote.webelement.WebElement (session=\"7c30aa77e6dfe5df173e29fb6f804710\", element=\"FE69AFAFB7249B7FCD09165065C86579_element_179\")>,\n",
       " <selenium.webdriver.remote.webelement.WebElement (session=\"7c30aa77e6dfe5df173e29fb6f804710\", element=\"FE69AFAFB7249B7FCD09165065C86579_element_180\")>,\n",
       " <selenium.webdriver.remote.webelement.WebElement (session=\"7c30aa77e6dfe5df173e29fb6f804710\", element=\"FE69AFAFB7249B7FCD09165065C86579_element_181\")>,\n",
       " <selenium.webdriver.remote.webelement.WebElement (session=\"7c30aa77e6dfe5df173e29fb6f804710\", element=\"FE69AFAFB7249B7FCD09165065C86579_element_182\")>,\n",
       " <selenium.webdriver.remote.webelement.WebElement (session=\"7c30aa77e6dfe5df173e29fb6f804710\", element=\"FE69AFAFB7249B7FCD09165065C86579_element_183\")>,\n",
       " <selenium.webdriver.remote.webelement.WebElement (session=\"7c30aa77e6dfe5df173e29fb6f804710\", element=\"FE69AFAFB7249B7FCD09165065C86579_element_184\")>,\n",
       " <selenium.webdriver.remote.webelement.WebElement (session=\"7c30aa77e6dfe5df173e29fb6f804710\", element=\"FE69AFAFB7249B7FCD09165065C86579_element_185\")>,\n",
       " <selenium.webdriver.remote.webelement.WebElement (session=\"7c30aa77e6dfe5df173e29fb6f804710\", element=\"FE69AFAFB7249B7FCD09165065C86579_element_186\")>,\n",
       " <selenium.webdriver.remote.webelement.WebElement (session=\"7c30aa77e6dfe5df173e29fb6f804710\", element=\"FE69AFAFB7249B7FCD09165065C86579_element_187\")>,\n",
       " <selenium.webdriver.remote.webelement.WebElement (session=\"7c30aa77e6dfe5df173e29fb6f804710\", element=\"FE69AFAFB7249B7FCD09165065C86579_element_188\")>,\n",
       " <selenium.webdriver.remote.webelement.WebElement (session=\"7c30aa77e6dfe5df173e29fb6f804710\", element=\"FE69AFAFB7249B7FCD09165065C86579_element_189\")>,\n",
       " <selenium.webdriver.remote.webelement.WebElement (session=\"7c30aa77e6dfe5df173e29fb6f804710\", element=\"FE69AFAFB7249B7FCD09165065C86579_element_190\")>,\n",
       " <selenium.webdriver.remote.webelement.WebElement (session=\"7c30aa77e6dfe5df173e29fb6f804710\", element=\"FE69AFAFB7249B7FCD09165065C86579_element_191\")>,\n",
       " <selenium.webdriver.remote.webelement.WebElement (session=\"7c30aa77e6dfe5df173e29fb6f804710\", element=\"FE69AFAFB7249B7FCD09165065C86579_element_192\")>,\n",
       " <selenium.webdriver.remote.webelement.WebElement (session=\"7c30aa77e6dfe5df173e29fb6f804710\", element=\"FE69AFAFB7249B7FCD09165065C86579_element_193\")>,\n",
       " <selenium.webdriver.remote.webelement.WebElement (session=\"7c30aa77e6dfe5df173e29fb6f804710\", element=\"FE69AFAFB7249B7FCD09165065C86579_element_194\")>,\n",
       " <selenium.webdriver.remote.webelement.WebElement (session=\"7c30aa77e6dfe5df173e29fb6f804710\", element=\"FE69AFAFB7249B7FCD09165065C86579_element_195\")>,\n",
       " <selenium.webdriver.remote.webelement.WebElement (session=\"7c30aa77e6dfe5df173e29fb6f804710\", element=\"FE69AFAFB7249B7FCD09165065C86579_element_196\")>,\n",
       " <selenium.webdriver.remote.webelement.WebElement (session=\"7c30aa77e6dfe5df173e29fb6f804710\", element=\"FE69AFAFB7249B7FCD09165065C86579_element_197\")>,\n",
       " <selenium.webdriver.remote.webelement.WebElement (session=\"7c30aa77e6dfe5df173e29fb6f804710\", element=\"FE69AFAFB7249B7FCD09165065C86579_element_198\")>]"
      ]
     },
     "execution_count": 216,
     "metadata": {},
     "output_type": "execute_result"
    }
   ],
   "source": [
    "# extracting all the tags having company names\n",
    "company_t1=driver.find_elements(By.XPATH,\"//div[@class='jobCard_jobCard_cName__mYnow']\")\n",
    "company_t1"
   ]
  },
  {
   "cell_type": "code",
   "execution_count": 217,
   "id": "0ea0ef7c",
   "metadata": {},
   "outputs": [
    {
     "data": {
      "text/plain": [
       "['flipped.ai - transforming talent ac...',\n",
       " 'surveysparrow',\n",
       " 'electronic arts (ea)',\n",
       " 'carnot technologies',\n",
       " 'razormet technologies',\n",
       " 'ayruz data marketing',\n",
       " 'awign',\n",
       " '3ghr services',\n",
       " 'ep soft pvt. ltd.',\n",
       " 'aidash']"
      ]
     },
     "execution_count": 217,
     "metadata": {},
     "output_type": "execute_result"
    }
   ],
   "source": [
    "#extracting the text from the tags \n",
    "companies_names=[]\n",
    "\n",
    "for i in company_t1:\n",
    "    companies_names.append(i.text)\n",
    "companies_names[:10]  "
   ]
  },
  {
   "cell_type": "code",
   "execution_count": 218,
   "id": "11748302",
   "metadata": {},
   "outputs": [
    {
     "data": {
      "text/plain": [
       "[<selenium.webdriver.remote.webelement.WebElement (session=\"7c30aa77e6dfe5df173e29fb6f804710\", element=\"FE69AFAFB7249B7FCD09165065C86579_element_199\")>,\n",
       " <selenium.webdriver.remote.webelement.WebElement (session=\"7c30aa77e6dfe5df173e29fb6f804710\", element=\"FE69AFAFB7249B7FCD09165065C86579_element_200\")>,\n",
       " <selenium.webdriver.remote.webelement.WebElement (session=\"7c30aa77e6dfe5df173e29fb6f804710\", element=\"FE69AFAFB7249B7FCD09165065C86579_element_201\")>,\n",
       " <selenium.webdriver.remote.webelement.WebElement (session=\"7c30aa77e6dfe5df173e29fb6f804710\", element=\"FE69AFAFB7249B7FCD09165065C86579_element_202\")>,\n",
       " <selenium.webdriver.remote.webelement.WebElement (session=\"7c30aa77e6dfe5df173e29fb6f804710\", element=\"FE69AFAFB7249B7FCD09165065C86579_element_203\")>,\n",
       " <selenium.webdriver.remote.webelement.WebElement (session=\"7c30aa77e6dfe5df173e29fb6f804710\", element=\"FE69AFAFB7249B7FCD09165065C86579_element_204\")>,\n",
       " <selenium.webdriver.remote.webelement.WebElement (session=\"7c30aa77e6dfe5df173e29fb6f804710\", element=\"FE69AFAFB7249B7FCD09165065C86579_element_205\")>,\n",
       " <selenium.webdriver.remote.webelement.WebElement (session=\"7c30aa77e6dfe5df173e29fb6f804710\", element=\"FE69AFAFB7249B7FCD09165065C86579_element_206\")>,\n",
       " <selenium.webdriver.remote.webelement.WebElement (session=\"7c30aa77e6dfe5df173e29fb6f804710\", element=\"FE69AFAFB7249B7FCD09165065C86579_element_207\")>,\n",
       " <selenium.webdriver.remote.webelement.WebElement (session=\"7c30aa77e6dfe5df173e29fb6f804710\", element=\"FE69AFAFB7249B7FCD09165065C86579_element_208\")>,\n",
       " <selenium.webdriver.remote.webelement.WebElement (session=\"7c30aa77e6dfe5df173e29fb6f804710\", element=\"FE69AFAFB7249B7FCD09165065C86579_element_209\")>,\n",
       " <selenium.webdriver.remote.webelement.WebElement (session=\"7c30aa77e6dfe5df173e29fb6f804710\", element=\"FE69AFAFB7249B7FCD09165065C86579_element_210\")>,\n",
       " <selenium.webdriver.remote.webelement.WebElement (session=\"7c30aa77e6dfe5df173e29fb6f804710\", element=\"FE69AFAFB7249B7FCD09165065C86579_element_211\")>,\n",
       " <selenium.webdriver.remote.webelement.WebElement (session=\"7c30aa77e6dfe5df173e29fb6f804710\", element=\"FE69AFAFB7249B7FCD09165065C86579_element_212\")>,\n",
       " <selenium.webdriver.remote.webelement.WebElement (session=\"7c30aa77e6dfe5df173e29fb6f804710\", element=\"FE69AFAFB7249B7FCD09165065C86579_element_213\")>,\n",
       " <selenium.webdriver.remote.webelement.WebElement (session=\"7c30aa77e6dfe5df173e29fb6f804710\", element=\"FE69AFAFB7249B7FCD09165065C86579_element_214\")>,\n",
       " <selenium.webdriver.remote.webelement.WebElement (session=\"7c30aa77e6dfe5df173e29fb6f804710\", element=\"FE69AFAFB7249B7FCD09165065C86579_element_215\")>,\n",
       " <selenium.webdriver.remote.webelement.WebElement (session=\"7c30aa77e6dfe5df173e29fb6f804710\", element=\"FE69AFAFB7249B7FCD09165065C86579_element_216\")>,\n",
       " <selenium.webdriver.remote.webelement.WebElement (session=\"7c30aa77e6dfe5df173e29fb6f804710\", element=\"FE69AFAFB7249B7FCD09165065C86579_element_217\")>,\n",
       " <selenium.webdriver.remote.webelement.WebElement (session=\"7c30aa77e6dfe5df173e29fb6f804710\", element=\"FE69AFAFB7249B7FCD09165065C86579_element_218\")>]"
      ]
     },
     "execution_count": 218,
     "metadata": {},
     "output_type": "execute_result"
    }
   ],
   "source": [
    "# extracting all the tags having location names\n",
    "locations_tags=driver.find_elements(By.XPATH,\"//div[@class=' jobCard_jobCard_lists_item__YxRkV jobCard_locationIcon__zrWt2']\")\n",
    "locations_tags"
   ]
  },
  {
   "cell_type": "code",
   "execution_count": 220,
   "id": "e4ea8560",
   "metadata": {},
   "outputs": [
    {
     "data": {
      "text/plain": [
       "[<selenium.webdriver.remote.webelement.WebElement (session=\"7c30aa77e6dfe5df173e29fb6f804710\", element=\"FE69AFAFB7249B7FCD09165065C86579_element_199\")>,\n",
       " <selenium.webdriver.remote.webelement.WebElement (session=\"7c30aa77e6dfe5df173e29fb6f804710\", element=\"FE69AFAFB7249B7FCD09165065C86579_element_200\")>,\n",
       " <selenium.webdriver.remote.webelement.WebElement (session=\"7c30aa77e6dfe5df173e29fb6f804710\", element=\"FE69AFAFB7249B7FCD09165065C86579_element_201\")>,\n",
       " <selenium.webdriver.remote.webelement.WebElement (session=\"7c30aa77e6dfe5df173e29fb6f804710\", element=\"FE69AFAFB7249B7FCD09165065C86579_element_202\")>,\n",
       " <selenium.webdriver.remote.webelement.WebElement (session=\"7c30aa77e6dfe5df173e29fb6f804710\", element=\"FE69AFAFB7249B7FCD09165065C86579_element_203\")>,\n",
       " <selenium.webdriver.remote.webelement.WebElement (session=\"7c30aa77e6dfe5df173e29fb6f804710\", element=\"FE69AFAFB7249B7FCD09165065C86579_element_204\")>,\n",
       " <selenium.webdriver.remote.webelement.WebElement (session=\"7c30aa77e6dfe5df173e29fb6f804710\", element=\"FE69AFAFB7249B7FCD09165065C86579_element_205\")>,\n",
       " <selenium.webdriver.remote.webelement.WebElement (session=\"7c30aa77e6dfe5df173e29fb6f804710\", element=\"FE69AFAFB7249B7FCD09165065C86579_element_206\")>,\n",
       " <selenium.webdriver.remote.webelement.WebElement (session=\"7c30aa77e6dfe5df173e29fb6f804710\", element=\"FE69AFAFB7249B7FCD09165065C86579_element_207\")>,\n",
       " <selenium.webdriver.remote.webelement.WebElement (session=\"7c30aa77e6dfe5df173e29fb6f804710\", element=\"FE69AFAFB7249B7FCD09165065C86579_element_208\")>,\n",
       " <selenium.webdriver.remote.webelement.WebElement (session=\"7c30aa77e6dfe5df173e29fb6f804710\", element=\"FE69AFAFB7249B7FCD09165065C86579_element_209\")>,\n",
       " <selenium.webdriver.remote.webelement.WebElement (session=\"7c30aa77e6dfe5df173e29fb6f804710\", element=\"FE69AFAFB7249B7FCD09165065C86579_element_210\")>,\n",
       " <selenium.webdriver.remote.webelement.WebElement (session=\"7c30aa77e6dfe5df173e29fb6f804710\", element=\"FE69AFAFB7249B7FCD09165065C86579_element_211\")>,\n",
       " <selenium.webdriver.remote.webelement.WebElement (session=\"7c30aa77e6dfe5df173e29fb6f804710\", element=\"FE69AFAFB7249B7FCD09165065C86579_element_212\")>,\n",
       " <selenium.webdriver.remote.webelement.WebElement (session=\"7c30aa77e6dfe5df173e29fb6f804710\", element=\"FE69AFAFB7249B7FCD09165065C86579_element_213\")>,\n",
       " <selenium.webdriver.remote.webelement.WebElement (session=\"7c30aa77e6dfe5df173e29fb6f804710\", element=\"FE69AFAFB7249B7FCD09165065C86579_element_214\")>,\n",
       " <selenium.webdriver.remote.webelement.WebElement (session=\"7c30aa77e6dfe5df173e29fb6f804710\", element=\"FE69AFAFB7249B7FCD09165065C86579_element_215\")>,\n",
       " <selenium.webdriver.remote.webelement.WebElement (session=\"7c30aa77e6dfe5df173e29fb6f804710\", element=\"FE69AFAFB7249B7FCD09165065C86579_element_216\")>,\n",
       " <selenium.webdriver.remote.webelement.WebElement (session=\"7c30aa77e6dfe5df173e29fb6f804710\", element=\"FE69AFAFB7249B7FCD09165065C86579_element_217\")>,\n",
       " <selenium.webdriver.remote.webelement.WebElement (session=\"7c30aa77e6dfe5df173e29fb6f804710\", element=\"FE69AFAFB7249B7FCD09165065C86579_element_218\")>]"
      ]
     },
     "execution_count": 220,
     "metadata": {},
     "output_type": "execute_result"
    }
   ],
   "source": [
    "# extracting all the tags having location names\n",
    "locations_tags=driver.find_elements(By.XPATH,\"//div[@class=' jobCard_jobCard_lists_item__YxRkV jobCard_locationIcon__zrWt2']\")\n",
    "locations_tags"
   ]
  },
  {
   "cell_type": "code",
   "execution_count": 221,
   "id": "e4e244f2",
   "metadata": {},
   "outputs": [
    {
     "data": {
      "text/plain": [
       "['Other Maharashtra\\n+1',\n",
       " 'Chennai\\n+1',\n",
       " 'Hyderabad\\n+1',\n",
       " 'Other Maharashtra',\n",
       " 'Other Maharashtra\\n+1',\n",
       " 'All India',\n",
       " 'Other Maharashtra',\n",
       " 'Other Maharashtra',\n",
       " 'Jaipur\\n+1',\n",
       " 'Other Karnataka']"
      ]
     },
     "execution_count": 221,
     "metadata": {},
     "output_type": "execute_result"
    }
   ],
   "source": [
    "locations_list=[]\n",
    "for i in locations_tags:\n",
    "    locations_list.append(i.text)\n",
    "locations_list[:10]"
   ]
  },
  {
   "cell_type": "code",
   "execution_count": 222,
   "id": "8a2e2004",
   "metadata": {},
   "outputs": [
    {
     "data": {
      "text/plain": [
       "[<selenium.webdriver.remote.webelement.WebElement (session=\"7c30aa77e6dfe5df173e29fb6f804710\", element=\"FE69AFAFB7249B7FCD09165065C86579_element_219\")>,\n",
       " <selenium.webdriver.remote.webelement.WebElement (session=\"7c30aa77e6dfe5df173e29fb6f804710\", element=\"FE69AFAFB7249B7FCD09165065C86579_element_220\")>,\n",
       " <selenium.webdriver.remote.webelement.WebElement (session=\"7c30aa77e6dfe5df173e29fb6f804710\", element=\"FE69AFAFB7249B7FCD09165065C86579_element_221\")>,\n",
       " <selenium.webdriver.remote.webelement.WebElement (session=\"7c30aa77e6dfe5df173e29fb6f804710\", element=\"FE69AFAFB7249B7FCD09165065C86579_element_222\")>,\n",
       " <selenium.webdriver.remote.webelement.WebElement (session=\"7c30aa77e6dfe5df173e29fb6f804710\", element=\"FE69AFAFB7249B7FCD09165065C86579_element_223\")>,\n",
       " <selenium.webdriver.remote.webelement.WebElement (session=\"7c30aa77e6dfe5df173e29fb6f804710\", element=\"FE69AFAFB7249B7FCD09165065C86579_element_224\")>,\n",
       " <selenium.webdriver.remote.webelement.WebElement (session=\"7c30aa77e6dfe5df173e29fb6f804710\", element=\"FE69AFAFB7249B7FCD09165065C86579_element_225\")>,\n",
       " <selenium.webdriver.remote.webelement.WebElement (session=\"7c30aa77e6dfe5df173e29fb6f804710\", element=\"FE69AFAFB7249B7FCD09165065C86579_element_226\")>,\n",
       " <selenium.webdriver.remote.webelement.WebElement (session=\"7c30aa77e6dfe5df173e29fb6f804710\", element=\"FE69AFAFB7249B7FCD09165065C86579_element_227\")>,\n",
       " <selenium.webdriver.remote.webelement.WebElement (session=\"7c30aa77e6dfe5df173e29fb6f804710\", element=\"FE69AFAFB7249B7FCD09165065C86579_element_228\")>,\n",
       " <selenium.webdriver.remote.webelement.WebElement (session=\"7c30aa77e6dfe5df173e29fb6f804710\", element=\"FE69AFAFB7249B7FCD09165065C86579_element_229\")>,\n",
       " <selenium.webdriver.remote.webelement.WebElement (session=\"7c30aa77e6dfe5df173e29fb6f804710\", element=\"FE69AFAFB7249B7FCD09165065C86579_element_230\")>,\n",
       " <selenium.webdriver.remote.webelement.WebElement (session=\"7c30aa77e6dfe5df173e29fb6f804710\", element=\"FE69AFAFB7249B7FCD09165065C86579_element_231\")>,\n",
       " <selenium.webdriver.remote.webelement.WebElement (session=\"7c30aa77e6dfe5df173e29fb6f804710\", element=\"FE69AFAFB7249B7FCD09165065C86579_element_232\")>,\n",
       " <selenium.webdriver.remote.webelement.WebElement (session=\"7c30aa77e6dfe5df173e29fb6f804710\", element=\"FE69AFAFB7249B7FCD09165065C86579_element_233\")>,\n",
       " <selenium.webdriver.remote.webelement.WebElement (session=\"7c30aa77e6dfe5df173e29fb6f804710\", element=\"FE69AFAFB7249B7FCD09165065C86579_element_234\")>,\n",
       " <selenium.webdriver.remote.webelement.WebElement (session=\"7c30aa77e6dfe5df173e29fb6f804710\", element=\"FE69AFAFB7249B7FCD09165065C86579_element_235\")>,\n",
       " <selenium.webdriver.remote.webelement.WebElement (session=\"7c30aa77e6dfe5df173e29fb6f804710\", element=\"FE69AFAFB7249B7FCD09165065C86579_element_236\")>,\n",
       " <selenium.webdriver.remote.webelement.WebElement (session=\"7c30aa77e6dfe5df173e29fb6f804710\", element=\"FE69AFAFB7249B7FCD09165065C86579_element_237\")>,\n",
       " <selenium.webdriver.remote.webelement.WebElement (session=\"7c30aa77e6dfe5df173e29fb6f804710\", element=\"FE69AFAFB7249B7FCD09165065C86579_element_238\")>]"
      ]
     },
     "execution_count": 222,
     "metadata": {},
     "output_type": "execute_result"
    }
   ],
   "source": [
    "#extracting  all the tags having the experience \n",
    "experience_t1=driver.find_elements(By.XPATH,\"//div[@class=' jobCard_jobCard_lists_item__YxRkV jobCard_jobIcon__3FB1t']\")\n",
    "experience_t1"
   ]
  },
  {
   "cell_type": "code",
   "execution_count": 223,
   "id": "ac416904",
   "metadata": {},
   "outputs": [
    {
     "data": {
      "text/plain": [
       "['5 to 9 Yrs',\n",
       " '3 to 7 Yrs',\n",
       " '10 to 14 Yrs',\n",
       " '4 to 8 Yrs',\n",
       " '0 to 4 Yrs',\n",
       " '1 to 5 Yrs',\n",
       " '5 to 9 Yrs',\n",
       " '2 to 6 Yrs',\n",
       " '3 Yrs',\n",
       " '5 to 9 Yrs']"
      ]
     },
     "execution_count": 223,
     "metadata": {},
     "output_type": "execute_result"
    }
   ],
   "source": [
    "#extracting the text  from these tags \n",
    "experience_list=[]\n",
    "for i in experience_t1:\n",
    "    experience_list.append(i.text)\n",
    "experience_list[:10] "
   ]
  },
  {
   "cell_type": "code",
   "execution_count": 224,
   "id": "bd8e8254",
   "metadata": {},
   "outputs": [
    {
     "name": "stdout",
     "output_type": "stream",
     "text": [
      "10\n",
      "10\n",
      "10\n",
      "10\n"
     ]
    },
    {
     "data": {
      "text/plain": [
       "(None, None, None, None)"
      ]
     },
     "execution_count": 224,
     "metadata": {},
     "output_type": "execute_result"
    }
   ],
   "source": [
    "#checking the length of each element\n",
    "print(len(job_titles[:10])),print(len(companies_names[:10])),print(len(experience_list[:10])),print(len(locations_list[:10]))"
   ]
  },
  {
   "cell_type": "code",
   "execution_count": 225,
   "id": "6eb7538f",
   "metadata": {},
   "outputs": [],
   "source": [
    "#making the dataframe\n",
    "jobs=pd.DataFrame({})\n",
    "jobs['title']=job_titles[:10]\n",
    "jobs['company']=companies_names[:10]\n",
    "jobs['location']=locations_list[:10]"
   ]
  },
  {
   "cell_type": "code",
   "execution_count": 228,
   "id": "a73d01f9",
   "metadata": {},
   "outputs": [],
   "source": [
    "#making the dataframe\n",
    "jobs=pd.DataFrame({})\n",
    "jobs['title']=job_titles[:10]\n",
    "jobs['company']=companies_names[:10]\n",
    "jobs['experience_required']=experience_list[:10]\n",
    "jobs['location']=locations_list[:10]"
   ]
  },
  {
   "cell_type": "code",
   "execution_count": 229,
   "id": "f53728bd",
   "metadata": {},
   "outputs": [
    {
     "data": {
      "text/html": [
       "<div>\n",
       "<style scoped>\n",
       "    .dataframe tbody tr th:only-of-type {\n",
       "        vertical-align: middle;\n",
       "    }\n",
       "\n",
       "    .dataframe tbody tr th {\n",
       "        vertical-align: top;\n",
       "    }\n",
       "\n",
       "    .dataframe thead th {\n",
       "        text-align: right;\n",
       "    }\n",
       "</style>\n",
       "<table border=\"1\" class=\"dataframe\">\n",
       "  <thead>\n",
       "    <tr style=\"text-align: right;\">\n",
       "      <th></th>\n",
       "      <th>title</th>\n",
       "      <th>company</th>\n",
       "      <th>experience_required</th>\n",
       "      <th>location</th>\n",
       "    </tr>\n",
       "  </thead>\n",
       "  <tbody>\n",
       "    <tr>\n",
       "      <th>0</th>\n",
       "      <td></td>\n",
       "      <td>flipped.ai - transforming talent ac...</td>\n",
       "      <td>5 to 9 Yrs</td>\n",
       "      <td>Other Maharashtra\\n+1</td>\n",
       "    </tr>\n",
       "    <tr>\n",
       "      <th>1</th>\n",
       "      <td></td>\n",
       "      <td>surveysparrow</td>\n",
       "      <td>3 to 7 Yrs</td>\n",
       "      <td>Chennai\\n+1</td>\n",
       "    </tr>\n",
       "    <tr>\n",
       "      <th>2</th>\n",
       "      <td>Data Scientist</td>\n",
       "      <td>electronic arts (ea)</td>\n",
       "      <td>10 to 14 Yrs</td>\n",
       "      <td>Hyderabad\\n+1</td>\n",
       "    </tr>\n",
       "    <tr>\n",
       "      <th>3</th>\n",
       "      <td>Senior Data Scientist</td>\n",
       "      <td>carnot technologies</td>\n",
       "      <td>4 to 8 Yrs</td>\n",
       "      <td>Other Maharashtra</td>\n",
       "    </tr>\n",
       "    <tr>\n",
       "      <th>4</th>\n",
       "      <td>Senior Data Scientist</td>\n",
       "      <td>razormet technologies</td>\n",
       "      <td>0 to 4 Yrs</td>\n",
       "      <td>Other Maharashtra\\n+1</td>\n",
       "    </tr>\n",
       "    <tr>\n",
       "      <th>5</th>\n",
       "      <td>Sr. Data Scientist IoT data &amp; Satellite Analytics</td>\n",
       "      <td>ayruz data marketing</td>\n",
       "      <td>1 to 5 Yrs</td>\n",
       "      <td>All India</td>\n",
       "    </tr>\n",
       "    <tr>\n",
       "      <th>6</th>\n",
       "      <td>Data Analyst / Data Scientist (Fresher Only)-</td>\n",
       "      <td>awign</td>\n",
       "      <td>5 to 9 Yrs</td>\n",
       "      <td>Other Maharashtra</td>\n",
       "    </tr>\n",
       "    <tr>\n",
       "      <th>7</th>\n",
       "      <td>Data Scientist</td>\n",
       "      <td>3ghr services</td>\n",
       "      <td>2 to 6 Yrs</td>\n",
       "      <td>Other Maharashtra</td>\n",
       "    </tr>\n",
       "    <tr>\n",
       "      <th>8</th>\n",
       "      <td>How relevant did you find the job search resul...</td>\n",
       "      <td>ep soft pvt. ltd.</td>\n",
       "      <td>3 Yrs</td>\n",
       "      <td>Jaipur\\n+1</td>\n",
       "    </tr>\n",
       "    <tr>\n",
       "      <th>9</th>\n",
       "      <td>Sr. Data Scientist</td>\n",
       "      <td>aidash</td>\n",
       "      <td>5 to 9 Yrs</td>\n",
       "      <td>Other Karnataka</td>\n",
       "    </tr>\n",
       "  </tbody>\n",
       "</table>\n",
       "</div>"
      ],
      "text/plain": [
       "                                               title  \\\n",
       "0                                                      \n",
       "1                                                      \n",
       "2                                     Data Scientist   \n",
       "3                              Senior Data Scientist   \n",
       "4                              Senior Data Scientist   \n",
       "5  Sr. Data Scientist IoT data & Satellite Analytics   \n",
       "6      Data Analyst / Data Scientist (Fresher Only)-   \n",
       "7                                     Data Scientist   \n",
       "8  How relevant did you find the job search resul...   \n",
       "9                                 Sr. Data Scientist   \n",
       "\n",
       "                                  company experience_required  \\\n",
       "0  flipped.ai - transforming talent ac...          5 to 9 Yrs   \n",
       "1                           surveysparrow          3 to 7 Yrs   \n",
       "2                    electronic arts (ea)        10 to 14 Yrs   \n",
       "3                     carnot technologies          4 to 8 Yrs   \n",
       "4                   razormet technologies          0 to 4 Yrs   \n",
       "5                    ayruz data marketing          1 to 5 Yrs   \n",
       "6                                   awign          5 to 9 Yrs   \n",
       "7                           3ghr services          2 to 6 Yrs   \n",
       "8                       ep soft pvt. ltd.               3 Yrs   \n",
       "9                                  aidash          5 to 9 Yrs   \n",
       "\n",
       "                location  \n",
       "0  Other Maharashtra\\n+1  \n",
       "1            Chennai\\n+1  \n",
       "2          Hyderabad\\n+1  \n",
       "3      Other Maharashtra  \n",
       "4  Other Maharashtra\\n+1  \n",
       "5              All India  \n",
       "6      Other Maharashtra  \n",
       "7      Other Maharashtra  \n",
       "8             Jaipur\\n+1  \n",
       "9        Other Karnataka  "
      ]
     },
     "execution_count": 229,
     "metadata": {},
     "output_type": "execute_result"
    }
   ],
   "source": [
    "jobs"
   ]
  },
  {
   "cell_type": "markdown",
   "id": "b44373b4",
   "metadata": {},
   "source": [
    "# Question 4"
   ]
  },
  {
   "cell_type": "code",
   "execution_count": 7,
   "id": "bf0e115c",
   "metadata": {},
   "outputs": [],
   "source": [
    "driver=webdriver.Chrome()"
   ]
  },
  {
   "cell_type": "code",
   "execution_count": 8,
   "id": "9c5e8bef",
   "metadata": {},
   "outputs": [],
   "source": [
    "\n",
    "url=\"https://www.flipkart.com/\"\n",
    "driver.get(url)"
   ]
  },
  {
   "cell_type": "code",
   "execution_count": 46,
   "id": "50fc2054",
   "metadata": {},
   "outputs": [
    {
     "data": {
      "text/plain": [
       "[<selenium.webdriver.remote.webelement.WebElement (session=\"3e7665c3ab942401affc990a0802a978\", element=\"345145D934BD936156799EF63E32BDA2_element_83\")>]"
      ]
     },
     "execution_count": 46,
     "metadata": {},
     "output_type": "execute_result"
    }
   ],
   "source": [
    "# finding element for job search bar\n",
    "search_g= driver.find_elements(By.XPATH,\"//input[@type='text']\")\n",
    "search_g"
   ]
  },
  {
   "cell_type": "code",
   "execution_count": 47,
   "id": "23848843",
   "metadata": {},
   "outputs": [],
   "source": [
    "designation=driver.find_element(By.CLASS_NAME,\"Pke_EE\")\n",
    "designation.send_keys('sunglasses')"
   ]
  },
  {
   "cell_type": "code",
   "execution_count": 48,
   "id": "45c91b1a",
   "metadata": {},
   "outputs": [],
   "source": [
    "# write on search bar\n",
    "search=driver.find_element(By.CLASS_NAME,\"_2iLD__\")\n",
    "search.click()"
   ]
  },
  {
   "cell_type": "code",
   "execution_count": 49,
   "id": "5abdf090",
   "metadata": {},
   "outputs": [],
   "source": [
    "B_name=[]\n",
    "Price=[]\n",
    "P_desc=[]"
   ]
  },
  {
   "cell_type": "code",
   "execution_count": 51,
   "id": "7655cf17",
   "metadata": {},
   "outputs": [],
   "source": [
    "# extracting  the text \n",
    "for i in range(3):\n",
    "    b_name=driver.find_elements(By.XPATH,\"//div[@class='_2WkVRV']\")\n",
    "    p_desc=driver.find_elements(By.XPATH,\"//a[@class='IRpwTa']\")\n",
    "    price =driver.find_elements(By.XPATH,\"//div[@class='_25b18c']\")\n",
    "    \n",
    "    for j  in b_name:\n",
    "        B_name.append(j.text)\n",
    "    B_name[:100]    \n",
    "    \n",
    "    \n",
    "    \n",
    "    for k in p_desc:\n",
    "        P_desc.append(k.text)\n",
    "    P_desc[:100] \n",
    "    \n",
    "    \n",
    "    for l in price:\n",
    "        Price.append(l.text)\n",
    "    Price[:100] \n"
   ]
  },
  {
   "cell_type": "code",
   "execution_count": 53,
   "id": "89e6ba45",
   "metadata": {},
   "outputs": [
    {
     "name": "stdout",
     "output_type": "stream",
     "text": [
      "100\n",
      "100\n",
      "100\n"
     ]
    },
    {
     "data": {
      "text/plain": [
       "(None, None, None)"
      ]
     },
     "execution_count": 53,
     "metadata": {},
     "output_type": "execute_result"
    }
   ],
   "source": [
    "print(len(B_name[:100])),print(len(Price[:100])),print(len(P_desc[:100]))"
   ]
  },
  {
   "cell_type": "code",
   "execution_count": 54,
   "id": "299aeb22",
   "metadata": {},
   "outputs": [],
   "source": [
    "sun_gl=pd.DataFrame({})\n",
    "sun_gl['Brand_name']=B_name[:100]\n",
    "sun_gl['P_price']=Price[:100]\n",
    "sun_gl['Pr_desc']=P_desc[:100]"
   ]
  },
  {
   "cell_type": "code",
   "execution_count": 55,
   "id": "8e7b27aa",
   "metadata": {},
   "outputs": [
    {
     "data": {
      "text/html": [
       "<div>\n",
       "<style scoped>\n",
       "    .dataframe tbody tr th:only-of-type {\n",
       "        vertical-align: middle;\n",
       "    }\n",
       "\n",
       "    .dataframe tbody tr th {\n",
       "        vertical-align: top;\n",
       "    }\n",
       "\n",
       "    .dataframe thead th {\n",
       "        text-align: right;\n",
       "    }\n",
       "</style>\n",
       "<table border=\"1\" class=\"dataframe\">\n",
       "  <thead>\n",
       "    <tr style=\"text-align: right;\">\n",
       "      <th></th>\n",
       "      <th>Brand_name</th>\n",
       "      <th>P_price</th>\n",
       "      <th>Pr_desc</th>\n",
       "    </tr>\n",
       "  </thead>\n",
       "  <tbody>\n",
       "    <tr>\n",
       "      <th>0</th>\n",
       "      <td>Eyenaks</td>\n",
       "      <td>₹346₹1,49976% off</td>\n",
       "      <td>UV Protection Rectangular Sunglasses (Free Size)</td>\n",
       "    </tr>\n",
       "    <tr>\n",
       "      <th>1</th>\n",
       "      <td>Eyewearlabs</td>\n",
       "      <td>₹2,199₹3,59938% off</td>\n",
       "      <td>Polarized, UV Protection Rectangular Sunglasse...</td>\n",
       "    </tr>\n",
       "    <tr>\n",
       "      <th>2</th>\n",
       "      <td>SRPM</td>\n",
       "      <td>₹149₹1,29988% off</td>\n",
       "      <td>UV Protection Wayfarer Sunglasses (50)</td>\n",
       "    </tr>\n",
       "    <tr>\n",
       "      <th>3</th>\n",
       "      <td>Elligator</td>\n",
       "      <td>₹149₹49970% off</td>\n",
       "      <td>UV Protection Retro Square Sunglasses (54)</td>\n",
       "    </tr>\n",
       "    <tr>\n",
       "      <th>4</th>\n",
       "      <td>Fastrack</td>\n",
       "      <td>₹599₹1,09945% off</td>\n",
       "      <td>UV Protection Wayfarer Sunglasses (58)</td>\n",
       "    </tr>\n",
       "    <tr>\n",
       "      <th>...</th>\n",
       "      <td>...</td>\n",
       "      <td>...</td>\n",
       "      <td>...</td>\n",
       "    </tr>\n",
       "    <tr>\n",
       "      <th>95</th>\n",
       "      <td>CLICKEDIN</td>\n",
       "      <td>₹523₹1,99973% off</td>\n",
       "      <td>UV Protection Aviator Sunglasses (54)</td>\n",
       "    </tr>\n",
       "    <tr>\n",
       "      <th>96</th>\n",
       "      <td>ROYAL SON</td>\n",
       "      <td>₹129₹99987% off</td>\n",
       "      <td>Polarized, UV Protection Wayfarer Sunglasses (51)</td>\n",
       "    </tr>\n",
       "    <tr>\n",
       "      <th>97</th>\n",
       "      <td>ROZZETTA CRAFT</td>\n",
       "      <td>₹634₹2,55575% off</td>\n",
       "      <td>Polarized, UV Protection Round Sunglasses (47)</td>\n",
       "    </tr>\n",
       "    <tr>\n",
       "      <th>98</th>\n",
       "      <td>Elligator</td>\n",
       "      <td>₹169₹99983% off</td>\n",
       "      <td>by Lenskart Polarized, UV Protection Wayfarer ...</td>\n",
       "    </tr>\n",
       "    <tr>\n",
       "      <th>99</th>\n",
       "      <td>PIRASO</td>\n",
       "      <td>₹487₹1,29962% off</td>\n",
       "      <td>Polarized, UV Protection, Riding Glasses Wayfa...</td>\n",
       "    </tr>\n",
       "  </tbody>\n",
       "</table>\n",
       "<p>100 rows × 3 columns</p>\n",
       "</div>"
      ],
      "text/plain": [
       "        Brand_name              P_price  \\\n",
       "0          Eyenaks    ₹346₹1,49976% off   \n",
       "1      Eyewearlabs  ₹2,199₹3,59938% off   \n",
       "2             SRPM    ₹149₹1,29988% off   \n",
       "3        Elligator      ₹149₹49970% off   \n",
       "4         Fastrack    ₹599₹1,09945% off   \n",
       "..             ...                  ...   \n",
       "95       CLICKEDIN    ₹523₹1,99973% off   \n",
       "96       ROYAL SON      ₹129₹99987% off   \n",
       "97  ROZZETTA CRAFT    ₹634₹2,55575% off   \n",
       "98       Elligator      ₹169₹99983% off   \n",
       "99          PIRASO    ₹487₹1,29962% off   \n",
       "\n",
       "                                              Pr_desc  \n",
       "0    UV Protection Rectangular Sunglasses (Free Size)  \n",
       "1   Polarized, UV Protection Rectangular Sunglasse...  \n",
       "2              UV Protection Wayfarer Sunglasses (50)  \n",
       "3          UV Protection Retro Square Sunglasses (54)  \n",
       "4              UV Protection Wayfarer Sunglasses (58)  \n",
       "..                                                ...  \n",
       "95              UV Protection Aviator Sunglasses (54)  \n",
       "96  Polarized, UV Protection Wayfarer Sunglasses (51)  \n",
       "97     Polarized, UV Protection Round Sunglasses (47)  \n",
       "98  by Lenskart Polarized, UV Protection Wayfarer ...  \n",
       "99  Polarized, UV Protection, Riding Glasses Wayfa...  \n",
       "\n",
       "[100 rows x 3 columns]"
      ]
     },
     "execution_count": 55,
     "metadata": {},
     "output_type": "execute_result"
    }
   ],
   "source": [
    "sun_gl"
   ]
  },
  {
   "cell_type": "markdown",
   "id": "f8b342b7",
   "metadata": {},
   "source": [
    "# Question 5"
   ]
  },
  {
   "cell_type": "code",
   "execution_count": 56,
   "id": "f9004cb2",
   "metadata": {},
   "outputs": [],
   "source": [
    " first connect to the web driver\n",
    "driver=webdriver.Chrome()"
   ]
  },
  {
   "cell_type": "code",
   "execution_count": 57,
   "id": "911ed084",
   "metadata": {},
   "outputs": [],
   "source": [
    "url=\"https://www.flipkart.com/\"\n",
    "driver.get(url)"
   ]
  },
  {
   "cell_type": "code",
   "execution_count": 58,
   "id": "9fd20091",
   "metadata": {},
   "outputs": [
    {
     "data": {
      "text/plain": [
       "[<selenium.webdriver.remote.webelement.WebElement (session=\"43f001c02d5a7a8a5f1424b6ad249cf9\", element=\"35696F90DDE89D8BDE79765C99C7192D_element_90\")>]"
      ]
     },
     "execution_count": 58,
     "metadata": {},
     "output_type": "execute_result"
    }
   ],
   "source": [
    "# finding element for job search bar\n",
    "search_g= driver.find_elements(By.XPATH,\"//input[@type='text']\")\n",
    "search_g"
   ]
  },
  {
   "cell_type": "code",
   "execution_count": 59,
   "id": "6170a8f5",
   "metadata": {},
   "outputs": [],
   "source": [
    "designation=driver.find_element(By.CLASS_NAME,\"Pke_EE\")\n",
    "designation.send_keys('iphone11')"
   ]
  },
  {
   "cell_type": "code",
   "execution_count": 60,
   "id": "78c5cc8f",
   "metadata": {},
   "outputs": [],
   "source": [
    "# write on search ba\n",
    "search=driver.find_element(By.CLASS_NAME,\"_2iLD__\")\n",
    "search.click()"
   ]
  },
  {
   "cell_type": "code",
   "execution_count": 71,
   "id": "64bd6ae6",
   "metadata": {},
   "outputs": [],
   "source": [
    "Rating=[]\n",
    "Rev_sum=[]\n",
    "Full_rev=[]"
   ]
  },
  {
   "cell_type": "code",
   "execution_count": 73,
   "id": "67c88f47",
   "metadata": {},
   "outputs": [],
   "source": [
    "# extracting the text\n",
    "for i in range(3):\n",
    "    rating=driver.find_elements(By.XPATH,\"//div[@class='_3LWZlK _1BLPMq']\")\n",
    "    rev_sum=driver.find_elements(By.XPATH,\"//p[@class='_2-N8zT']\")\n",
    "    full_rev=driver.find_elements(By.XPATH,\"//div[@class='t-ZTKy']\")\n",
    "    \n",
    "    for j  in rating:\n",
    "        Rating.append(j.text)\n",
    "    Rating[:100]    \n",
    "     \n",
    "    \n",
    "    for k in rev_sum:\n",
    "        Rev_sum.append(k.text)\n",
    "    Rev_sum[:100] \n",
    "    \n",
    "    \n",
    "    for l in full_rev:\n",
    "        Full_rev.append(l.text)\n",
    "    Full_rev[:100] \n"
   ]
  },
  {
   "cell_type": "code",
   "execution_count": 74,
   "id": "80d6af8f",
   "metadata": {},
   "outputs": [
    {
     "name": "stdout",
     "output_type": "stream",
     "text": [
      "18\n",
      "18\n",
      "18\n"
     ]
    },
    {
     "data": {
      "text/plain": [
       "(None, None, None)"
      ]
     },
     "execution_count": 74,
     "metadata": {},
     "output_type": "execute_result"
    }
   ],
   "source": [
    "print(len(Rating[:100])),print(len(Rev_sum[:100])),print(len(Full_rev[:100]))"
   ]
  },
  {
   "cell_type": "code",
   "execution_count": 77,
   "id": "a342d6b2",
   "metadata": {},
   "outputs": [],
   "source": [
    "i_phone=pd.DataFrame({})\n",
    "i_phone['Rating']=Rating[:100]\n",
    "i_phone['Review_Summary']=Rev_sum[:100]\n",
    "i_phone['Full_Review']=Full_rev[:100]"
   ]
  },
  {
   "cell_type": "code",
   "execution_count": 78,
   "id": "966f76fa",
   "metadata": {},
   "outputs": [
    {
     "data": {
      "text/html": [
       "<div>\n",
       "<style scoped>\n",
       "    .dataframe tbody tr th:only-of-type {\n",
       "        vertical-align: middle;\n",
       "    }\n",
       "\n",
       "    .dataframe tbody tr th {\n",
       "        vertical-align: top;\n",
       "    }\n",
       "\n",
       "    .dataframe thead th {\n",
       "        text-align: right;\n",
       "    }\n",
       "</style>\n",
       "<table border=\"1\" class=\"dataframe\">\n",
       "  <thead>\n",
       "    <tr style=\"text-align: right;\">\n",
       "      <th></th>\n",
       "      <th>Rating</th>\n",
       "      <th>Review_Summary</th>\n",
       "      <th>Full_Review</th>\n",
       "    </tr>\n",
       "  </thead>\n",
       "  <tbody>\n",
       "    <tr>\n",
       "      <th>0</th>\n",
       "      <td>5</td>\n",
       "      <td>Worth every penny</td>\n",
       "      <td>Feeling awesome after getting the delivery of ...</td>\n",
       "    </tr>\n",
       "    <tr>\n",
       "      <th>1</th>\n",
       "      <td>4</td>\n",
       "      <td>Wonderful</td>\n",
       "      <td>Great choice if you looking for everyday use</td>\n",
       "    </tr>\n",
       "    <tr>\n",
       "      <th>2</th>\n",
       "      <td>5</td>\n",
       "      <td>Highly recommended</td>\n",
       "      <td>Battery - more or less 2 days\\nCamera - can no...</td>\n",
       "    </tr>\n",
       "    <tr>\n",
       "      <th>3</th>\n",
       "      <td>5</td>\n",
       "      <td>Perfect product!</td>\n",
       "      <td>Nice products thanks flkat</td>\n",
       "    </tr>\n",
       "    <tr>\n",
       "      <th>4</th>\n",
       "      <td>5</td>\n",
       "      <td>Wonderful</td>\n",
       "      <td>I bought during the big billion sale. It’s wor...</td>\n",
       "    </tr>\n",
       "    <tr>\n",
       "      <th>5</th>\n",
       "      <td>5</td>\n",
       "      <td>Great product</td>\n",
       "      <td>Awesome product ❤️❤️\\nThank you Flipkart</td>\n",
       "    </tr>\n",
       "    <tr>\n",
       "      <th>6</th>\n",
       "      <td>5</td>\n",
       "      <td>Worth every penny</td>\n",
       "      <td>Feeling awesome after getting the delivery of ...</td>\n",
       "    </tr>\n",
       "    <tr>\n",
       "      <th>7</th>\n",
       "      <td>4</td>\n",
       "      <td>Wonderful</td>\n",
       "      <td>Great choice if you looking for everyday use</td>\n",
       "    </tr>\n",
       "    <tr>\n",
       "      <th>8</th>\n",
       "      <td>5</td>\n",
       "      <td>Highly recommended</td>\n",
       "      <td>Battery - more or less 2 days\\nCamera - can no...</td>\n",
       "    </tr>\n",
       "    <tr>\n",
       "      <th>9</th>\n",
       "      <td>5</td>\n",
       "      <td>Perfect product!</td>\n",
       "      <td>Nice products thanks flkat</td>\n",
       "    </tr>\n",
       "    <tr>\n",
       "      <th>10</th>\n",
       "      <td>5</td>\n",
       "      <td>Wonderful</td>\n",
       "      <td>I bought during the big billion sale. It’s wor...</td>\n",
       "    </tr>\n",
       "    <tr>\n",
       "      <th>11</th>\n",
       "      <td>5</td>\n",
       "      <td>Great product</td>\n",
       "      <td>Awesome product ❤️❤️\\nThank you Flipkart</td>\n",
       "    </tr>\n",
       "    <tr>\n",
       "      <th>12</th>\n",
       "      <td>5</td>\n",
       "      <td>Worth every penny</td>\n",
       "      <td>Feeling awesome after getting the delivery of ...</td>\n",
       "    </tr>\n",
       "    <tr>\n",
       "      <th>13</th>\n",
       "      <td>4</td>\n",
       "      <td>Wonderful</td>\n",
       "      <td>Great choice if you looking for everyday use</td>\n",
       "    </tr>\n",
       "    <tr>\n",
       "      <th>14</th>\n",
       "      <td>5</td>\n",
       "      <td>Highly recommended</td>\n",
       "      <td>Battery - more or less 2 days\\nCamera - can no...</td>\n",
       "    </tr>\n",
       "    <tr>\n",
       "      <th>15</th>\n",
       "      <td>5</td>\n",
       "      <td>Perfect product!</td>\n",
       "      <td>Nice products thanks flkat</td>\n",
       "    </tr>\n",
       "    <tr>\n",
       "      <th>16</th>\n",
       "      <td>5</td>\n",
       "      <td>Wonderful</td>\n",
       "      <td>I bought during the big billion sale. It’s wor...</td>\n",
       "    </tr>\n",
       "    <tr>\n",
       "      <th>17</th>\n",
       "      <td>5</td>\n",
       "      <td>Great product</td>\n",
       "      <td>Awesome product ❤️❤️\\nThank you Flipkart</td>\n",
       "    </tr>\n",
       "  </tbody>\n",
       "</table>\n",
       "</div>"
      ],
      "text/plain": [
       "   Rating      Review_Summary  \\\n",
       "0       5   Worth every penny   \n",
       "1       4           Wonderful   \n",
       "2       5  Highly recommended   \n",
       "3       5    Perfect product!   \n",
       "4       5           Wonderful   \n",
       "5       5       Great product   \n",
       "6       5   Worth every penny   \n",
       "7       4           Wonderful   \n",
       "8       5  Highly recommended   \n",
       "9       5    Perfect product!   \n",
       "10      5           Wonderful   \n",
       "11      5       Great product   \n",
       "12      5   Worth every penny   \n",
       "13      4           Wonderful   \n",
       "14      5  Highly recommended   \n",
       "15      5    Perfect product!   \n",
       "16      5           Wonderful   \n",
       "17      5       Great product   \n",
       "\n",
       "                                          Full_Review  \n",
       "0   Feeling awesome after getting the delivery of ...  \n",
       "1        Great choice if you looking for everyday use  \n",
       "2   Battery - more or less 2 days\\nCamera - can no...  \n",
       "3                          Nice products thanks flkat  \n",
       "4   I bought during the big billion sale. It’s wor...  \n",
       "5            Awesome product ❤️❤️\\nThank you Flipkart  \n",
       "6   Feeling awesome after getting the delivery of ...  \n",
       "7        Great choice if you looking for everyday use  \n",
       "8   Battery - more or less 2 days\\nCamera - can no...  \n",
       "9                          Nice products thanks flkat  \n",
       "10  I bought during the big billion sale. It’s wor...  \n",
       "11           Awesome product ❤️❤️\\nThank you Flipkart  \n",
       "12  Feeling awesome after getting the delivery of ...  \n",
       "13       Great choice if you looking for everyday use  \n",
       "14  Battery - more or less 2 days\\nCamera - can no...  \n",
       "15                         Nice products thanks flkat  \n",
       "16  I bought during the big billion sale. It’s wor...  \n",
       "17           Awesome product ❤️❤️\\nThank you Flipkart  "
      ]
     },
     "execution_count": 78,
     "metadata": {},
     "output_type": "execute_result"
    }
   ],
   "source": [
    "i_phone"
   ]
  },
  {
   "cell_type": "markdown",
   "id": "ce23dbd8",
   "metadata": {},
   "source": [
    "# Question 6"
   ]
  },
  {
   "cell_type": "code",
   "execution_count": 21,
   "id": "76de5ea8",
   "metadata": {},
   "outputs": [],
   "source": [
    "# let's first connect to the web driver\n",
    "driver=webdriver.Chrome()"
   ]
  },
  {
   "cell_type": "code",
   "execution_count": 22,
   "id": "cf42d1af",
   "metadata": {},
   "outputs": [],
   "source": [
    "url=\"https://www.flipkart.com/\"\n",
    "driver.get(url)"
   ]
  },
  {
   "cell_type": "code",
   "execution_count": 23,
   "id": "2dfd34a2",
   "metadata": {},
   "outputs": [
    {
     "data": {
      "text/plain": [
       "[<selenium.webdriver.remote.webelement.WebElement (session=\"50e1c2e3562f2378547e7db26f7db3de\", element=\"D890F23466AB7BA83856B35AED8B30D1_element_90\")>]"
      ]
     },
     "execution_count": 23,
     "metadata": {},
     "output_type": "execute_result"
    }
   ],
   "source": [
    "# finding element for job search bar\n",
    "search_g= driver.find_elements(By.XPATH,\"//input[@type='text']\")\n",
    "search_g"
   ]
  },
  {
   "cell_type": "code",
   "execution_count": 24,
   "id": "c1a3cf43",
   "metadata": {},
   "outputs": [],
   "source": [
    "designation=driver.find_element(By.CLASS_NAME,\"Pke_EE\")\n",
    "designation.send_keys('sneakers')"
   ]
  },
  {
   "cell_type": "code",
   "execution_count": 25,
   "id": "986787cd",
   "metadata": {},
   "outputs": [],
   "source": [
    "# write on search bar\n",
    "search=driver.find_element(By.CLASS_NAME,\"_2iLD__\")\n",
    "search.click()"
   ]
  },
  {
   "cell_type": "code",
   "execution_count": 26,
   "id": "df36fa92",
   "metadata": {},
   "outputs": [],
   "source": [
    "B_name=[]\n",
    "Price=[]\n",
    "P_desc=[]\n"
   ]
  },
  {
   "cell_type": "code",
   "execution_count": 39,
   "id": "2afe757f",
   "metadata": {},
   "outputs": [],
   "source": [
    "# extracting the text\n",
    "for i in range(3):\n",
    "    b_name=driver.find_elements(By.XPATH,\"//div[@class='_2WkVRV']\")\n",
    "    p_desc=driver.find_elements(By.XPATH,\"//a[@class='IRpwTa']\")\n",
    "    price =driver.find_elements(By.XPATH,\"//div[@class='_25b18c']\")\n",
    "    \n",
    "    for j  in b_name:\n",
    "        B_name.append(j.text)\n",
    "    B_name[:100]    \n",
    "    \n",
    "    \n",
    "    \n",
    "    for k in p_desc:\n",
    "        P_desc.append(k.text)\n",
    "    P_desc[:100] \n",
    "    \n",
    "    \n",
    "    for l in price:\n",
    "        Price.append(l.text)\n",
    "    Price[:100] \n"
   ]
  },
  {
   "cell_type": "code",
   "execution_count": 40,
   "id": "29d182c3",
   "metadata": {},
   "outputs": [
    {
     "name": "stdout",
     "output_type": "stream",
     "text": [
      "100\n",
      "100\n",
      "100\n"
     ]
    },
    {
     "data": {
      "text/plain": [
       "(None, None, None)"
      ]
     },
     "execution_count": 40,
     "metadata": {},
     "output_type": "execute_result"
    }
   ],
   "source": [
    "print(len(B_name[:100])),print(len(Price[:100])),print(len(P_desc[:100]))\n"
   ]
  },
  {
   "cell_type": "code",
   "execution_count": 41,
   "id": "758d670a",
   "metadata": {},
   "outputs": [],
   "source": [
    "sun_gl=pd.DataFrame({})\n",
    "sun_gl['Brand_name']=B_name[:100]\n",
    "sun_gl['P_price']=Price[:100]\n",
    "sun_gl['Pr_desc']=P_desc[:100]"
   ]
  },
  {
   "cell_type": "code",
   "execution_count": 42,
   "id": "6cd515ea",
   "metadata": {},
   "outputs": [
    {
     "data": {
      "text/html": [
       "<div>\n",
       "<style scoped>\n",
       "    .dataframe tbody tr th:only-of-type {\n",
       "        vertical-align: middle;\n",
       "    }\n",
       "\n",
       "    .dataframe tbody tr th {\n",
       "        vertical-align: top;\n",
       "    }\n",
       "\n",
       "    .dataframe thead th {\n",
       "        text-align: right;\n",
       "    }\n",
       "</style>\n",
       "<table border=\"1\" class=\"dataframe\">\n",
       "  <thead>\n",
       "    <tr style=\"text-align: right;\">\n",
       "      <th></th>\n",
       "      <th>Brand_name</th>\n",
       "      <th>P_price</th>\n",
       "      <th>Pr_desc</th>\n",
       "    </tr>\n",
       "  </thead>\n",
       "  <tbody>\n",
       "    <tr>\n",
       "      <th>0</th>\n",
       "      <td>aadi</td>\n",
       "      <td>₹377₹1,99981% off</td>\n",
       "      <td>Mesh |Lightweight|Comfort|Summer|Trendy|Walkin...</td>\n",
       "    </tr>\n",
       "    <tr>\n",
       "      <th>1</th>\n",
       "      <td>aadi</td>\n",
       "      <td>₹256₹1,99987% off</td>\n",
       "      <td>Mesh |Lightweight|Comfort|Summer|Trendy|Walkin...</td>\n",
       "    </tr>\n",
       "    <tr>\n",
       "      <th>2</th>\n",
       "      <td>URBANBOX</td>\n",
       "      <td>₹299₹99970% off</td>\n",
       "      <td>Trending Stylish Casual Outdoor Sneakers Shoes...</td>\n",
       "    </tr>\n",
       "    <tr>\n",
       "      <th>3</th>\n",
       "      <td>Deals4you</td>\n",
       "      <td>₹399₹99960% off</td>\n",
       "      <td>Sneakers For Women</td>\n",
       "    </tr>\n",
       "    <tr>\n",
       "      <th>4</th>\n",
       "      <td>Robbie jones</td>\n",
       "      <td>₹449₹1,99977% off</td>\n",
       "      <td>Casual Sneakers Colour Blocked Shoes For Boys ...</td>\n",
       "    </tr>\n",
       "    <tr>\n",
       "      <th>...</th>\n",
       "      <td>...</td>\n",
       "      <td>...</td>\n",
       "      <td>...</td>\n",
       "    </tr>\n",
       "    <tr>\n",
       "      <th>95</th>\n",
       "      <td>RED TAPE</td>\n",
       "      <td>₹1,039₹1,79942% off</td>\n",
       "      <td>Trending Stylish Casual Outdoor Sneakers Shoes...</td>\n",
       "    </tr>\n",
       "    <tr>\n",
       "      <th>96</th>\n",
       "      <td>RUN SEVEN</td>\n",
       "      <td>₹999₹3,39970% off</td>\n",
       "      <td>Sneakers For Women</td>\n",
       "    </tr>\n",
       "    <tr>\n",
       "      <th>97</th>\n",
       "      <td>RUN SEVEN</td>\n",
       "      <td>₹386₹1,99980% off</td>\n",
       "      <td>Casual Sneakers Colour Blocked Shoes For Boys ...</td>\n",
       "    </tr>\n",
       "    <tr>\n",
       "      <th>98</th>\n",
       "      <td>asian</td>\n",
       "      <td>₹424₹1,99978% off</td>\n",
       "      <td>Carnival-02 Mens High Top Casual Chunky Sneake...</td>\n",
       "    </tr>\n",
       "    <tr>\n",
       "      <th>99</th>\n",
       "      <td>Shoe Lab</td>\n",
       "      <td>₹1,619₹5,39970% off</td>\n",
       "      <td>Synthetic Leather For Men</td>\n",
       "    </tr>\n",
       "  </tbody>\n",
       "</table>\n",
       "<p>100 rows × 3 columns</p>\n",
       "</div>"
      ],
      "text/plain": [
       "      Brand_name              P_price  \\\n",
       "0           aadi    ₹377₹1,99981% off   \n",
       "1           aadi    ₹256₹1,99987% off   \n",
       "2       URBANBOX      ₹299₹99970% off   \n",
       "3      Deals4you      ₹399₹99960% off   \n",
       "4   Robbie jones    ₹449₹1,99977% off   \n",
       "..           ...                  ...   \n",
       "95      RED TAPE  ₹1,039₹1,79942% off   \n",
       "96     RUN SEVEN    ₹999₹3,39970% off   \n",
       "97     RUN SEVEN    ₹386₹1,99980% off   \n",
       "98         asian    ₹424₹1,99978% off   \n",
       "99      Shoe Lab  ₹1,619₹5,39970% off   \n",
       "\n",
       "                                              Pr_desc  \n",
       "0   Mesh |Lightweight|Comfort|Summer|Trendy|Walkin...  \n",
       "1   Mesh |Lightweight|Comfort|Summer|Trendy|Walkin...  \n",
       "2   Trending Stylish Casual Outdoor Sneakers Shoes...  \n",
       "3                                  Sneakers For Women  \n",
       "4   Casual Sneakers Colour Blocked Shoes For Boys ...  \n",
       "..                                                ...  \n",
       "95  Trending Stylish Casual Outdoor Sneakers Shoes...  \n",
       "96                                 Sneakers For Women  \n",
       "97  Casual Sneakers Colour Blocked Shoes For Boys ...  \n",
       "98  Carnival-02 Mens High Top Casual Chunky Sneake...  \n",
       "99                          Synthetic Leather For Men  \n",
       "\n",
       "[100 rows x 3 columns]"
      ]
     },
     "execution_count": 42,
     "metadata": {},
     "output_type": "execute_result"
    }
   ],
   "source": [
    "sun_gl"
   ]
  },
  {
   "cell_type": "markdown",
   "id": "32f92541",
   "metadata": {},
   "source": [
    "# Question 7"
   ]
  },
  {
   "cell_type": "code",
   "execution_count": 79,
   "id": "a7fbcddd",
   "metadata": {},
   "outputs": [],
   "source": [
    "driver=webdriver.Chrome()"
   ]
  },
  {
   "cell_type": "code",
   "execution_count": 80,
   "id": "ef0f3754",
   "metadata": {},
   "outputs": [],
   "source": [
    "url=\" https://www.amazon.in \"\n",
    "driver.get(url)"
   ]
  },
  {
   "cell_type": "code",
   "execution_count": 82,
   "id": "9a314682",
   "metadata": {},
   "outputs": [
    {
     "data": {
      "text/plain": [
       "[<selenium.webdriver.remote.webelement.WebElement (session=\"9e9f15fee4720c3bb4486521167a2052\", element=\"F63B05ED6396E66FE0492D2C1A0ACEA2_element_70\")>]"
      ]
     },
     "execution_count": 82,
     "metadata": {},
     "output_type": "execute_result"
    }
   ],
   "source": [
    "# finding element for job search bar\n",
    "search_g= driver.find_elements(By.XPATH,\"//input[@type='text']\")\n",
    "search_g"
   ]
  },
  {
   "cell_type": "code",
   "execution_count": 87,
   "id": "05bbe084",
   "metadata": {},
   "outputs": [],
   "source": [
    "designation=driver.find_element(By.ID,\"twotabsearchtextbox\")\n",
    "designation.send_keys('IntelCorei7')"
   ]
  },
  {
   "cell_type": "code",
   "execution_count": 88,
   "id": "b1babfab",
   "metadata": {},
   "outputs": [],
   "source": [
    "search=driver.find_element(By.ID,\"nav-search-submit-button\")\n",
    "search.click()"
   ]
  },
  {
   "cell_type": "code",
   "execution_count": 89,
   "id": "bf1766bd",
   "metadata": {},
   "outputs": [],
   "source": [
    "Title=[]\n",
    "Price=[]\n",
    "Rating=[]"
   ]
  },
  {
   "cell_type": "code",
   "execution_count": 112,
   "id": "f63e7dec",
   "metadata": {},
   "outputs": [],
   "source": [
    "for i in range(3):\n",
    "    title=driver.find_elements(By.XPATH,\"//span[@class='a-size-medium a-color-base a-text-normal']\")\n",
    "    rating=driver.find_elements(By.XPATH,\"//a[@class='a-popover-trigger a-declarative']\")\n",
    "    price =driver.find_elements(By.XPATH,\"//span[@class='a-price-whole']\")\n",
    "    \n",
    "    \n",
    "    for j  in title:\n",
    "        Title.append(j.text)\n",
    "    Title[:10]    \n",
    "    \n",
    "    \n",
    "    \n",
    "    for k in rating:\n",
    "        Rating.append(k.text)\n",
    "    Rating[:10] \n",
    "    \n",
    "    \n",
    "    for l in price:\n",
    "        Price.append(l.text)\n",
    "    Price[:10] \n",
    "    "
   ]
  },
  {
   "cell_type": "code",
   "execution_count": 113,
   "id": "b3f44fb2",
   "metadata": {},
   "outputs": [
    {
     "name": "stdout",
     "output_type": "stream",
     "text": [
      "10\n",
      "10\n",
      "10\n"
     ]
    },
    {
     "data": {
      "text/plain": [
       "(None, None, None)"
      ]
     },
     "execution_count": 113,
     "metadata": {},
     "output_type": "execute_result"
    }
   ],
   "source": [
    "print(len(Title[:10])),print(len(Price[:10])),print(len(Rating[:10]))"
   ]
  },
  {
   "cell_type": "code",
   "execution_count": 114,
   "id": "aa529e90",
   "metadata": {},
   "outputs": [],
   "source": [
    "ic_7=pd.DataFrame({})\n",
    "ic_7['Title']=Title[:10]\n",
    "ic_7['Price']=Price[:10]\n",
    "ic_7['Rating']=Rating[:10]"
   ]
  },
  {
   "cell_type": "code",
   "execution_count": 115,
   "id": "a6254079",
   "metadata": {},
   "outputs": [
    {
     "data": {
      "text/html": [
       "<div>\n",
       "<style scoped>\n",
       "    .dataframe tbody tr th:only-of-type {\n",
       "        vertical-align: middle;\n",
       "    }\n",
       "\n",
       "    .dataframe tbody tr th {\n",
       "        vertical-align: top;\n",
       "    }\n",
       "\n",
       "    .dataframe thead th {\n",
       "        text-align: right;\n",
       "    }\n",
       "</style>\n",
       "<table border=\"1\" class=\"dataframe\">\n",
       "  <thead>\n",
       "    <tr style=\"text-align: right;\">\n",
       "      <th></th>\n",
       "      <th>Title</th>\n",
       "      <th>Price</th>\n",
       "      <th>Rating</th>\n",
       "    </tr>\n",
       "  </thead>\n",
       "  <tbody>\n",
       "    <tr>\n",
       "      <th>0</th>\n",
       "      <td>Core i7 12700 12th Gen Generation Desktop PC P...</td>\n",
       "      <td>30,400</td>\n",
       "      <td></td>\n",
       "    </tr>\n",
       "    <tr>\n",
       "      <th>1</th>\n",
       "      <td>Core i7-13700K Desktop Processor 16 cores (8 P...</td>\n",
       "      <td>30,400</td>\n",
       "      <td></td>\n",
       "    </tr>\n",
       "    <tr>\n",
       "      <th>2</th>\n",
       "      <td>Core i7 12700 12th Gen Generation Desktop PC P...</td>\n",
       "      <td>21,489</td>\n",
       "      <td></td>\n",
       "    </tr>\n",
       "    <tr>\n",
       "      <th>3</th>\n",
       "      <td>Core™ i7-10700F Desktop Processor 16M Cache, u...</td>\n",
       "      <td>30,400</td>\n",
       "      <td></td>\n",
       "    </tr>\n",
       "    <tr>\n",
       "      <th>4</th>\n",
       "      <td>Core i7-10700 Processor FCLGA1200 Sockets (16M...</td>\n",
       "      <td>9,399</td>\n",
       "      <td></td>\n",
       "    </tr>\n",
       "    <tr>\n",
       "      <th>5</th>\n",
       "      <td>Core™ i7-14700K New Gaming Desktop Processor 2...</td>\n",
       "      <td>6,399</td>\n",
       "      <td></td>\n",
       "    </tr>\n",
       "    <tr>\n",
       "      <th>6</th>\n",
       "      <td>Core i7-12700K Desktop Processor 12 (8P+4E) Co...</td>\n",
       "      <td></td>\n",
       "      <td></td>\n",
       "    </tr>\n",
       "    <tr>\n",
       "      <th>7</th>\n",
       "      <td>Core i7-11700F 11th Gen Generation Desktop PC ...</td>\n",
       "      <td>23,493</td>\n",
       "      <td></td>\n",
       "    </tr>\n",
       "    <tr>\n",
       "      <th>8</th>\n",
       "      <td>Core i7-10700K Desktop Processor 8 Cores up to...</td>\n",
       "      <td>49,249</td>\n",
       "      <td></td>\n",
       "    </tr>\n",
       "    <tr>\n",
       "      <th>9</th>\n",
       "      <td>Core I7 12700Kf 12Th Gen Desktop Processor 25 ...</td>\n",
       "      <td>33,480</td>\n",
       "      <td></td>\n",
       "    </tr>\n",
       "  </tbody>\n",
       "</table>\n",
       "</div>"
      ],
      "text/plain": [
       "                                               Title   Price Rating\n",
       "0  Core i7 12700 12th Gen Generation Desktop PC P...  30,400       \n",
       "1  Core i7-13700K Desktop Processor 16 cores (8 P...  30,400       \n",
       "2  Core i7 12700 12th Gen Generation Desktop PC P...  21,489       \n",
       "3  Core™ i7-10700F Desktop Processor 16M Cache, u...  30,400       \n",
       "4  Core i7-10700 Processor FCLGA1200 Sockets (16M...   9,399       \n",
       "5  Core™ i7-14700K New Gaming Desktop Processor 2...   6,399       \n",
       "6  Core i7-12700K Desktop Processor 12 (8P+4E) Co...               \n",
       "7  Core i7-11700F 11th Gen Generation Desktop PC ...  23,493       \n",
       "8  Core i7-10700K Desktop Processor 8 Cores up to...  49,249       \n",
       "9  Core I7 12700Kf 12Th Gen Desktop Processor 25 ...  33,480       "
      ]
     },
     "execution_count": 115,
     "metadata": {},
     "output_type": "execute_result"
    }
   ],
   "source": [
    "ic_7"
   ]
  },
  {
   "cell_type": "markdown",
   "id": "91a48acd",
   "metadata": {},
   "source": [
    "# Question 8"
   ]
  },
  {
   "cell_type": "code",
   "execution_count": 85,
   "id": "616b77e8",
   "metadata": {},
   "outputs": [],
   "source": [
    "driver=webdriver.Chrome()"
   ]
  },
  {
   "cell_type": "code",
   "execution_count": 86,
   "id": "b12c11e7",
   "metadata": {},
   "outputs": [],
   "source": [
    "url=\" https://www.azquotes.com/\"\n",
    "driver.get(url)"
   ]
  },
  {
   "cell_type": "code",
   "execution_count": 87,
   "id": "d2029176",
   "metadata": {},
   "outputs": [
    {
     "data": {
      "text/plain": [
       "[<selenium.webdriver.remote.webelement.WebElement (session=\"c68329ef2b8753b1088ab8f9288032ce\", element=\"14C4D2E9B554BC069D2E3760B761F739_element_226\")>,\n",
       " <selenium.webdriver.remote.webelement.WebElement (session=\"c68329ef2b8753b1088ab8f9288032ce\", element=\"14C4D2E9B554BC069D2E3760B761F739_element_1463\")>,\n",
       " <selenium.webdriver.remote.webelement.WebElement (session=\"c68329ef2b8753b1088ab8f9288032ce\", element=\"14C4D2E9B554BC069D2E3760B761F739_element_1496\")>,\n",
       " <selenium.webdriver.remote.webelement.WebElement (session=\"c68329ef2b8753b1088ab8f9288032ce\", element=\"14C4D2E9B554BC069D2E3760B761F739_element_1501\")>,\n",
       " <selenium.webdriver.remote.webelement.WebElement (session=\"c68329ef2b8753b1088ab8f9288032ce\", element=\"14C4D2E9B554BC069D2E3760B761F739_element_1528\")>]"
      ]
     },
     "execution_count": 87,
     "metadata": {},
     "output_type": "execute_result"
    }
   ],
   "source": [
    "# finding element for job search bar\n",
    "search_g= driver.find_elements(By.XPATH,\"//input[@type='text']\")\n",
    "search_g"
   ]
  },
  {
   "cell_type": "code",
   "execution_count": 88,
   "id": "2fadb817",
   "metadata": {},
   "outputs": [],
   "source": [
    "designation=driver.find_element(By.CLASS_NAME,\"ui-autocomplete-input\")\n",
    "designation.send_keys('topquotes')"
   ]
  },
  {
   "cell_type": "code",
   "execution_count": 89,
   "id": "a7e99406",
   "metadata": {},
   "outputs": [],
   "source": [
    "search=driver.find_element(By.CLASS_NAME,\"search\")\n",
    "search.click()"
   ]
  },
  {
   "cell_type": "code",
   "execution_count": 92,
   "id": "c3e81255",
   "metadata": {},
   "outputs": [
    {
     "data": {
      "text/plain": [
       "[<selenium.webdriver.remote.webelement.WebElement (session=\"c68329ef2b8753b1088ab8f9288032ce\", element=\"14C4D2E9B554BC069D2E3760B761F739_element_2027\")>,\n",
       " <selenium.webdriver.remote.webelement.WebElement (session=\"c68329ef2b8753b1088ab8f9288032ce\", element=\"14C4D2E9B554BC069D2E3760B761F739_element_1981\")>,\n",
       " <selenium.webdriver.remote.webelement.WebElement (session=\"c68329ef2b8753b1088ab8f9288032ce\", element=\"14C4D2E9B554BC069D2E3760B761F739_element_75\")>,\n",
       " <selenium.webdriver.remote.webelement.WebElement (session=\"c68329ef2b8753b1088ab8f9288032ce\", element=\"14C4D2E9B554BC069D2E3760B761F739_element_1134\")>,\n",
       " <selenium.webdriver.remote.webelement.WebElement (session=\"c68329ef2b8753b1088ab8f9288032ce\", element=\"14C4D2E9B554BC069D2E3760B761F739_element_1165\")>,\n",
       " <selenium.webdriver.remote.webelement.WebElement (session=\"c68329ef2b8753b1088ab8f9288032ce\", element=\"14C4D2E9B554BC069D2E3760B761F739_element_1196\")>,\n",
       " <selenium.webdriver.remote.webelement.WebElement (session=\"c68329ef2b8753b1088ab8f9288032ce\", element=\"14C4D2E9B554BC069D2E3760B761F739_element_1227\")>,\n",
       " <selenium.webdriver.remote.webelement.WebElement (session=\"c68329ef2b8753b1088ab8f9288032ce\", element=\"14C4D2E9B554BC069D2E3760B761F739_element_1258\")>,\n",
       " <selenium.webdriver.remote.webelement.WebElement (session=\"c68329ef2b8753b1088ab8f9288032ce\", element=\"14C4D2E9B554BC069D2E3760B761F739_element_1289\")>,\n",
       " <selenium.webdriver.remote.webelement.WebElement (session=\"c68329ef2b8753b1088ab8f9288032ce\", element=\"14C4D2E9B554BC069D2E3760B761F739_element_1320\")>,\n",
       " <selenium.webdriver.remote.webelement.WebElement (session=\"c68329ef2b8753b1088ab8f9288032ce\", element=\"14C4D2E9B554BC069D2E3760B761F739_element_1351\")>,\n",
       " <selenium.webdriver.remote.webelement.WebElement (session=\"c68329ef2b8753b1088ab8f9288032ce\", element=\"14C4D2E9B554BC069D2E3760B761F739_element_1382\")>,\n",
       " <selenium.webdriver.remote.webelement.WebElement (session=\"c68329ef2b8753b1088ab8f9288032ce\", element=\"14C4D2E9B554BC069D2E3760B761F739_element_1958\")>,\n",
       " <selenium.webdriver.remote.webelement.WebElement (session=\"c68329ef2b8753b1088ab8f9288032ce\", element=\"14C4D2E9B554BC069D2E3760B761F739_element_2004\")>]"
      ]
     },
     "execution_count": 92,
     "metadata": {},
     "output_type": "execute_result"
    }
   ],
   "source": [
    "url=driver.find_elements(By.XPATH,\"//a[@class='title']\")\n",
    "url[0:1000]"
   ]
  },
  {
   "cell_type": "code",
   "execution_count": 93,
   "id": "7379dcd6",
   "metadata": {},
   "outputs": [
    {
     "name": "stdout",
     "output_type": "stream",
     "text": [
      "https://www.azquotes.com/quote/639819\n",
      "https://www.azquotes.com/quote/734118\n",
      "https://www.azquotes.com/quote/167593\n",
      "https://www.azquotes.com/quote/176081\n",
      "https://www.azquotes.com/quote/267448\n",
      "https://www.azquotes.com/quote/375666\n",
      "https://www.azquotes.com/quote/462750\n",
      "https://www.azquotes.com/quote/540576\n",
      "https://www.azquotes.com/quote/554130\n",
      "https://www.azquotes.com/quote/579682\n",
      "https://www.azquotes.com/quote/639819\n",
      "https://www.azquotes.com/quote/734118\n",
      "https://www.azquotes.com/quote/167593\n",
      "https://www.azquotes.com/quote/176081\n"
     ]
    }
   ],
   "source": [
    "for i in url[0:1000]:\n",
    "    print(i.get_attribute('href'))"
   ]
  },
  {
   "cell_type": "code",
   "execution_count": 94,
   "id": "a401425f",
   "metadata": {},
   "outputs": [],
   "source": [
    "Quote=[]"
   ]
  },
  {
   "cell_type": "code",
   "execution_count": null,
   "id": "7e9bf6a0",
   "metadata": {},
   "outputs": [],
   "source": [
    "start=0\n",
    "end=1000\n",
    "for page in range(start,end):\n",
    "    titles=driver.find_elements(By.XPATH,\"//div[@class='content-slide content-slide_top']\")\n",
    "    for i in titles:\n",
    "        Quote.append(i.text)\n",
    "        next_button=driver.find_element(By.XPATH,'/html/body/div[1]/div[2]/div/div/div[2]/div/div[1]/div/div[2]/div[1]/div[2]')\n",
    "        next_button.click\n",
    "        time.sleep(3)\n",
    "    "
   ]
  },
  {
   "cell_type": "code",
   "execution_count": null,
   "id": "2c13187b",
   "metadata": {},
   "outputs": [],
   "source": [
    "len(Quote)"
   ]
  },
  {
   "cell_type": "markdown",
   "id": "e2e5477f",
   "metadata": {},
   "source": [
    "# Question 9"
   ]
  },
  {
   "cell_type": "code",
   "execution_count": 274,
   "id": "24522eae",
   "metadata": {},
   "outputs": [],
   "source": [
    "driver=webdriver.Chrome()"
   ]
  },
  {
   "cell_type": "code",
   "execution_count": 275,
   "id": "20ae026d",
   "metadata": {},
   "outputs": [],
   "source": [
    "url=\" https://www.jagranjosh.com/ \"\n",
    "driver.get(url)"
   ]
  },
  {
   "cell_type": "code",
   "execution_count": 276,
   "id": "84f1027d",
   "metadata": {},
   "outputs": [],
   "source": [
    "designation=driver.find_element(By.XPATH,\"/html/body/div/div[6]/div[2]/section/div[1]/div[1]/div[2]/input[1]\")\n",
    "designation.send_keys('GK')"
   ]
  },
  {
   "cell_type": "code",
   "execution_count": 262,
   "id": "ec9b6a65",
   "metadata": {},
   "outputs": [],
   "source": [
    "search=driver.find_element(By.XPATH,\"/html/body/div[1]/div[6]/div[2]/section/div[1]/div[1]/div[2]/input[2]\")\n",
    "search.click()"
   ]
  },
  {
   "cell_type": "code",
   "execution_count": 264,
   "id": "93c6e35c",
   "metadata": {},
   "outputs": [],
   "source": [
    "title=driver.find_element(By.ID,\"search\")\n",
    "title.send_keys('list of all prime ministers of India')"
   ]
  },
  {
   "cell_type": "code",
   "execution_count": 265,
   "id": "6dc0abef",
   "metadata": {},
   "outputs": [],
   "source": [
    "submit=driver.find_element(By.XPATH,\"/html/body/div[1]/div[1]/div/div[1]/div/div[3]/div/div/div/form/div[2]/div/input[2]\")\n",
    "submit.click()"
   ]
  },
  {
   "cell_type": "code",
   "execution_count": null,
   "id": "a34aeab6",
   "metadata": {},
   "outputs": [],
   "source": [
    "Name=[]\n",
    "Born_Dead=[]\n",
    "TOO=[]\n",
    "Remarks=[]"
   ]
  },
  {
   "cell_type": "markdown",
   "id": "0c25df36",
   "metadata": {},
   "source": [
    "# Question 10"
   ]
  },
  {
   "cell_type": "code",
   "execution_count": 232,
   "id": "7fc2d04b",
   "metadata": {},
   "outputs": [],
   "source": [
    "driver=webdriver.Chrome()"
   ]
  },
  {
   "cell_type": "code",
   "execution_count": 233,
   "id": "87f63f9f",
   "metadata": {},
   "outputs": [],
   "source": [
    "url=\" https://www.motor1.com \"\n",
    "driver.get(url)"
   ]
  },
  {
   "cell_type": "code",
   "execution_count": 234,
   "id": "56b6c7f0",
   "metadata": {},
   "outputs": [],
   "source": [
    "# finding element for search bar\n",
    "designation=driver.find_element(By.ID,\"search_input\")\n",
    "designation.send_keys('50 most expensive cars')"
   ]
  },
  {
   "cell_type": "code",
   "execution_count": 236,
   "id": "ee867684",
   "metadata": {},
   "outputs": [],
   "source": [
    "search=driver.find_element(By.XPATH,\"/html/body/div[10]/div[2]/div/div/div[3]/div/div/div/form/button[1]\")\n",
    "search.click()"
   ]
  }
 ],
 "metadata": {
  "kernelspec": {
   "display_name": "Python 3 (ipykernel)",
   "language": "python",
   "name": "python3"
  },
  "language_info": {
   "codemirror_mode": {
    "name": "ipython",
    "version": 3
   },
   "file_extension": ".py",
   "mimetype": "text/x-python",
   "name": "python",
   "nbconvert_exporter": "python",
   "pygments_lexer": "ipython3",
   "version": "3.10.9"
  }
 },
 "nbformat": 4,
 "nbformat_minor": 5
}
