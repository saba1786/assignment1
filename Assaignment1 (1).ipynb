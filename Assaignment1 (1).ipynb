{
 "cells": [
  {
   "cell_type": "code",
   "execution_count": 2,
   "id": "f7af6b19",
   "metadata": {},
   "outputs": [
    {
     "name": "stdout",
     "output_type": "stream",
     "text": [
      "The:sun:was:shining::the:birds:were:singing::and:the:flowers:were:in:bloom:\n"
     ]
    }
   ],
   "source": [
    "# 1. Python program to replace all occurrences of a space, comma, or dot with a colon\n",
    "\n",
    "import re\n",
    "text='The sun was shining, the birds were singing, and the flowers were in bloom.'\n",
    "print(re.sub(\"[ ,.]\",\":\",text))"
   ]
  },
  {
   "cell_type": "code",
   "execution_count": 31,
   "id": "38b8eceb",
   "metadata": {},
   "outputs": [
    {
     "name": "stdout",
     "output_type": "stream",
     "text": [
      "         SUMMARY\n",
      "0    hello world\n",
      "1           test\n",
      "2  four five six\n"
     ]
    }
   ],
   "source": [
    "# 2. Dataframe using the dictionary below and remove everything (commas (,), !, XXXX, ;, etc.) from the columns except words\n",
    "\n",
    "import pandas as pd\n",
    "import re\n",
    "\n",
    "data = {'SUMMARY': ['hello, world!', 'XXXXX test', '123four, five:; six...']}\n",
    "df = pd.DataFrame(data)\n",
    "def clean_text(text):\n",
    "    cleaned_text = re.sub(r'[^\\w\\s]|XXXXX|123', '', text)\n",
    "    return cleaned_text\n",
    "df['SUMMARY'] = df['SUMMARY'].apply(clean_text)\n",
    "print(df)"
   ]
  },
  {
   "cell_type": "code",
   "execution_count": 32,
   "id": "10bd2fbf",
   "metadata": {},
   "outputs": [
    {
     "name": "stdout",
     "output_type": "stream",
     "text": [
      "['gets', 'early', 'love', 'cook', 'food', 'aunt']\n"
     ]
    }
   ],
   "source": [
    "3. #Function in python to find all words that are at least 4 characters long in a string.\n",
    "   #with the use of the re.compile() method\n",
    "\n",
    "import re\n",
    "str='She gets up early and love to cook food for her aunt'\n",
    "prog=re.compile(r'\\b\\w{4,}\\b')\n",
    "result=prog.findall(str)\n",
    "print(result)\n"
   ]
  },
  {
   "cell_type": "code",
   "execution_count": 40,
   "id": "42850167",
   "metadata": {},
   "outputs": [
    {
     "name": "stdout",
     "output_type": "stream",
     "text": [
      "['Sun', 'shone', 'the', 'tall', 'tree', 'where', 'sat', 'the', 'mat', 'and', 'read', 'story', 'book']\n"
     ]
    }
   ],
   "source": [
    "4. #Function in python to find all three, four and five character words in a string.\n",
    "   #with the use of the re.compile() method\n",
    "\n",
    "import re\n",
    "str='Sun shone brightly behind the tall tree where father sat on the mat and read a story book'\n",
    "prog=re.compile(r'\\b\\w{3,5}\\b')\n",
    "result=prog.findall(str)\n",
    "print(result)"
   ]
  },
  {
   "cell_type": "code",
   "execution_count": 152,
   "id": "73180235",
   "metadata": {},
   "outputs": [
    {
     "name": "stdout",
     "output_type": "stream",
     "text": [
      "['Eduta.net', 'admin@techno.org', 'repository.net', 'GreetingsMachine Learning Universe', 'InformationTechnologist']\n"
     ]
    }
   ],
   "source": [
    "5.#Create a function in Python to remove the parenthesis in a list of strings\n",
    "  #with the use of the re.compile() method\n",
    "    \n",
    "import re\n",
    "def remove_parentheses_and_keep_text(strings_list):\n",
    "    pattern = re.compile(r'\\(([^)]+)\\)')\n",
    "    cleaned_list = [pattern.sub(r'\\1', s) for s in strings_list]\n",
    "    return cleaned_list\n",
    "\n",
    "sample_text = [\"Eduta(.net)\", \n",
    "               \"admin@techno(.org)\", \n",
    "               \"repository(.net)\", \n",
    "               \"Greetings(Machine Learning Universe)\", \n",
    "               \"Information(Technologist)\"]\n",
    "\n",
    "result = remove_parentheses_and_keep_text(sample_text)\n",
    "print(result)\n",
    "    "
   ]
  },
  {
   "cell_type": "code",
   "execution_count": 59,
   "id": "51d5d147",
   "metadata": {},
   "outputs": [
    {
     "name": "stdout",
     "output_type": "stream",
     "text": [
      "Text File:\n",
      "example (.com)\n",
      "hr@fliprobo (.com)\n",
      "github (.com)\n",
      "Hello (Data Science World)\n",
      "Data (Scientist)\n",
      "\n",
      "Text File without Parentheses:\n",
      "example \n",
      "hr@fliprobo \n",
      "github \n",
      "Hello \n",
      "Data \n"
     ]
    }
   ],
   "source": [
    "6.#Program to remove the parenthesis area from the text stored in the text file using Regular Expression.\n",
    "    \n",
    "import re\n",
    "def remove_parentheses(strings_list):\n",
    "    prog = re.compile(r'\\([^)]*\\)')\n",
    "    result_list = [prog.sub('', string) for string in strings_list]\n",
    "    return result_list\n",
    "strings_with_parentheses = [\n",
    "    \"example (.com)\",\n",
    "    \"hr@fliprobo (.com)\",\n",
    "    \"github (.com)\",\n",
    "    \"Hello (Data Science World)\",\n",
    "    \"Data (Scientist)\"]\n",
    "strings_without_parentheses = remove_parentheses(strings_with_parentheses)\n",
    "print(\"Text File:\")\n",
    "for string in strings_with_parentheses:\n",
    "    print(string)\n",
    "\n",
    "print(\"\\nText File without Parentheses:\")\n",
    "for string in strings_without_parentheses:\n",
    "    print(string)"
   ]
  },
  {
   "cell_type": "code",
   "execution_count": 60,
   "id": "49c588f6",
   "metadata": {},
   "outputs": [
    {
     "name": "stdout",
     "output_type": "stream",
     "text": [
      "['I', 'O', 'R', 'E', 'I', 'P']\n"
     ]
    }
   ],
   "source": [
    "7. # Regular expression in Python to split a string into uppercase letters\n",
    "\n",
    "import re\n",
    "text = \"ImportanceOfRegularExpressionsInPython\"\n",
    "uppercase_letters = re.findall('[A-Z]', text)\n",
    "print(uppercase_letters)"
   ]
  },
  {
   "cell_type": "code",
   "execution_count": 62,
   "id": "7076394a",
   "metadata": {},
   "outputs": [
    {
     "name": "stdout",
     "output_type": "stream",
     "text": [
      "ISeeKidsAtThePark 1Playing 2Running 3AndLaughing\n"
     ]
    }
   ],
   "source": [
    "8.# Function in python to insert spaces between words starting with numbers\n",
    "\n",
    "import re\n",
    "\n",
    "def insert_spaces(text):\n",
    "    modified_text = re.sub(r'(?<=[a-zA-Z])(\\d)', r' \\1', text)\n",
    "    return modified_text\n",
    "sample_text = \"ISeeKidsAtThePark1Playing2Running3AndLaughing\"\n",
    "\n",
    "result = insert_spaces(sample_text)\n",
    "print(result)"
   ]
  },
  {
   "cell_type": "code",
   "execution_count": 63,
   "id": "d65bd21f",
   "metadata": {},
   "outputs": [
    {
     "name": "stdout",
     "output_type": "stream",
     "text": [
      "I See Kids At The Park 1 Playing 2 Running 3 And Laughing\n"
     ]
    }
   ],
   "source": [
    "9.#Function in python to insert spaces between words starting with capital letters or with numbers.\n",
    "\n",
    "import re\n",
    "\n",
    "def insert_spaces(text):\n",
    "    modified_text = re.sub(r'(?<=[a-zA-Z0-9])([A-Z0-9])', r' \\1', text)\n",
    "    return modified_text\n",
    "\n",
    "sample_text = \"ISeeKidsAtThePark1Playing2Running3AndLaughing\"\n",
    "\n",
    "result = insert_spaces(sample_text)\n",
    "print(result)"
   ]
  },
  {
   "cell_type": "code",
   "execution_count": 158,
   "id": "198c4f46",
   "metadata": {},
   "outputs": [
    {
     "name": "stdout",
     "output_type": "stream",
     "text": [
      "         Country                           Region  Happiness Rank  \\\n",
      "0    Switzerland                   Western Europe               1   \n",
      "1        Iceland                   Western Europe               2   \n",
      "2        Denmark                   Western Europe               3   \n",
      "3         Norway                   Western Europe               4   \n",
      "4         Canada                    North America               5   \n",
      "..           ...                              ...             ...   \n",
      "153       Rwanda               Sub-Saharan Africa             154   \n",
      "154        Benin               Sub-Saharan Africa             155   \n",
      "155        Syria  Middle East and Northern Africa             156   \n",
      "156      Burundi               Sub-Saharan Africa             157   \n",
      "157         Togo               Sub-Saharan Africa             158   \n",
      "\n",
      "     Happiness Score  Standard Error  Economy (GDP per Capita)   Family  \\\n",
      "0              7.587         0.03411                   1.39651  1.34951   \n",
      "1              7.561         0.04884                   1.30232  1.40223   \n",
      "2              7.527         0.03328                   1.32548  1.36058   \n",
      "3              7.522         0.03880                   1.45900  1.33095   \n",
      "4              7.427         0.03553                   1.32629  1.32261   \n",
      "..               ...             ...                       ...      ...   \n",
      "153            3.465         0.03464                   0.22208  0.77370   \n",
      "154            3.340         0.03656                   0.28665  0.35386   \n",
      "155            3.006         0.05015                   0.66320  0.47489   \n",
      "156            2.905         0.08658                   0.01530  0.41587   \n",
      "157            2.839         0.06727                   0.20868  0.13995   \n",
      "\n",
      "     Health (Life Expectancy)  Freedom  Trust (Government Corruption)  \\\n",
      "0                     0.94143  0.66557                        0.41978   \n",
      "1                     0.94784  0.62877                        0.14145   \n",
      "2                     0.87464  0.64938                        0.48357   \n",
      "3                     0.88521  0.66973                        0.36503   \n",
      "4                     0.90563  0.63297                        0.32957   \n",
      "..                        ...      ...                            ...   \n",
      "153                   0.42864  0.59201                        0.55191   \n",
      "154                   0.31910  0.48450                        0.08010   \n",
      "155                   0.72193  0.15684                        0.18906   \n",
      "156                   0.22396  0.11850                        0.10062   \n",
      "157                   0.28443  0.36453                        0.10731   \n",
      "\n",
      "     Generosity  Dystopia Residual first_six_letters  \n",
      "0       0.29678            2.51738            Switze  \n",
      "1       0.43630            2.70201            Icelan  \n",
      "2       0.34139            2.49204            Denmar  \n",
      "3       0.34699            2.46531            Norway  \n",
      "4       0.45811            2.45176            Canada  \n",
      "..          ...                ...               ...  \n",
      "153     0.22628            0.67042            Rwanda  \n",
      "154     0.18260            1.63328             Benin  \n",
      "155     0.47179            0.32858             Syria  \n",
      "156     0.19727            1.83302            Burund  \n",
      "157     0.16681            1.56726              Togo  \n",
      "\n",
      "[158 rows x 13 columns]\n"
     ]
    }
   ],
   "source": [
    "10.#- Use the github link below to read the data and create a dataframe. After creating the dataframe extract the first 6 letters of each country and store in the dataframe under a new column called first_five_letters\n",
    "\n",
    "import pandas as pd\n",
    "ghlink=\"https://raw.githubusercontent.com/dsrscientist/DSData/master/happiness_score_dataset.csv\"\n",
    "df = pd.read_csv(ghlink)\n",
    "df['first_five_letters'] = df['Country'].str[:6]\n",
    "\n",
    "print(df)\n"
   ]
  },
  {
   "cell_type": "code",
   "execution_count": 64,
   "id": "fdfd9cdc",
   "metadata": {},
   "outputs": [
    {
     "name": "stdout",
     "output_type": "stream",
     "text": [
      "The string \"Valid_String_123\" is valid.\n"
     ]
    }
   ],
   "source": [
    "11.# Program to match a string that contains only upper and lowercase \n",
    "letters, numbers, and underscores\n",
    "\n",
    "import re\n",
    "def is_valid_string(input_string):\n",
    "    prog = re.compile(r'^[a-zA-Z0-9_]+$')\n",
    "    match = re.match(prog, input_string)\n",
    "    return bool(match)\n",
    "test_string = \"Valid_String_123\"\n",
    "result = is_valid_string(test_string)\n",
    "\n",
    "if result:\n",
    "    print(f'The string \"{test_string}\" is valid.')\n",
    "else:\n",
    "    print(f'The string \"{test_string}\" is not valid.')"
   ]
  },
  {
   "cell_type": "code",
   "execution_count": 68,
   "id": "6a0740de",
   "metadata": {},
   "outputs": [
    {
     "name": "stdout",
     "output_type": "stream",
     "text": [
      "True\n",
      "False\n"
     ]
    }
   ],
   "source": [
    "12.#Program where a string will start with a specific number\n",
    "\n",
    "import re\n",
    "def match_num(string):\n",
    "    text = re.compile(r\"^325\")\n",
    "    if text.match(string):\n",
    "        return True\n",
    "    else:\n",
    "        return False\n",
    "print(match_num('325789'))\n",
    "print(match_num('596789'))\n"
   ]
  },
  {
   "cell_type": "code",
   "execution_count": 71,
   "id": "6c71d25b",
   "metadata": {},
   "outputs": [
    {
     "name": "stdout",
     "output_type": "stream",
     "text": [
      "723.65.40.567\n"
     ]
    }
   ],
   "source": [
    "13.# Program to remove leading zeros from an IP address\n",
    "\n",
    "import re\n",
    "ip = \"723.065.040.567\"\n",
    "string = re.sub('\\.[0]*', '.', ip)\n",
    "print(string)\n"
   ]
  },
  {
   "cell_type": "code",
   "execution_count": 169,
   "id": "d3300929",
   "metadata": {},
   "outputs": [
    {
     "name": "stdout",
     "output_type": "stream",
     "text": [
      "[]\n"
     ]
    }
   ],
   "source": [
    "14.#RE in python to match a date string in the form of Month name followed by day number and year stored in a text file.\n",
    "\n",
    "import re\n",
    "text='On 2nd September 1945 when the World War II ended, Japan surrenders after the atomic bombs are dropped on Hiroshima and Nagasaki.'\n",
    "pattern = r\"\\b([A-Z][a-z]+) \\d{1,2}(?:st|nd|rd|th)? \\d{4}\\b\"\n",
    "matches = re.findall(pattern, text)\n",
    "print(matches)\n",
    "\n"
   ]
  },
  {
   "cell_type": "code",
   "execution_count": 168,
   "id": "bb9585b0",
   "metadata": {},
   "outputs": [
    {
     "name": "stdout",
     "output_type": "stream",
     "text": [
      "Searching for \"fox\" in \"The quick brown fox jumps over the lazy dog.\" ->\n",
      "Matched!\n",
      "Searching for \"dog\" in \"The quick brown fox jumps over the lazy dog.\" ->\n",
      "Matched!\n",
      "Searching for \"horse\" in \"The quick brown fox jumps over the lazy dog.\" ->\n",
      "Not Matched!\n"
     ]
    }
   ],
   "source": [
    "15#program to search some literals strings in a string. \n",
    "\n",
    "import re\n",
    "patterns = ['fox', 'dog', 'horse']\n",
    "ls = 'The quick brown fox jumps over the lazy dog.'\n",
    "for pattern in patterns:\n",
    "    print('Searching for \"%s\" in \"%s\" ->' % (pattern,ls),)\n",
    "    if re.search(pattern,ls):\n",
    "        print('Matched!')\n",
    "    else:\n",
    "        print('Not Matched!')"
   ]
  },
  {
   "cell_type": "code",
   "execution_count": 87,
   "id": "196cfcef",
   "metadata": {},
   "outputs": [
    {
     "name": "stdout",
     "output_type": "stream",
     "text": [
      "Found \"fox\" in \"The quick brown fox jumps over the lazy dog.\" from 16 to 19 \n"
     ]
    }
   ],
   "source": [
    "16#Program to search a literals string in a string and also find the location within the original string where the pattern occurs \n",
    "\n",
    "import re\n",
    "pattern = 'fox'\n",
    "ls = 'The quick brown fox jumps over the lazy dog.'\n",
    "match = re.search(pattern, ls)\n",
    "s = match.start()\n",
    "e = match.end()\n",
    "print('Found \"%s\" in \"%s\" from %d to %d ' % \\\n",
    "    (match.re.pattern, match.string, s, e))\n"
   ]
  },
  {
   "cell_type": "code",
   "execution_count": 89,
   "id": "65d590e8",
   "metadata": {},
   "outputs": [
    {
     "name": "stdout",
     "output_type": "stream",
     "text": [
      "Found \"skills\"\n",
      "Found \"skills\"\n",
      "Found \"skills\"\n",
      "Found \"skills\"\n"
     ]
    }
   ],
   "source": [
    "17.#Program to find the substrings within a string\n",
    "\n",
    "import re\n",
    "string = 'Computer skills, Language skills, History skills, Programming skills'\n",
    "pattern = 'skills'\n",
    "for match in re.findall(pattern, string):\n",
    "    print('Found \"%s\"' % match)"
   ]
  },
  {
   "cell_type": "code",
   "execution_count": 91,
   "id": "dd44d8e4",
   "metadata": {},
   "outputs": [
    {
     "name": "stdout",
     "output_type": "stream",
     "text": [
      "Found \"skills\" at 9:15\n",
      "Found \"skills\" at 26:32\n",
      "Found \"skills\" at 42:48\n",
      "Found \"skills\" at 62:68\n"
     ]
    }
   ],
   "source": [
    "18.#Program to find the occurrence and position of the substrings within a string.\n",
    "\n",
    "import re\n",
    "string = 'Computer skills, Language skills, History skills, Programming skills'\n",
    "pattern = 'skills'\n",
    "for match in re.finditer(pattern, string):\n",
    "    s = match.start()\n",
    "    e = match.end()\n",
    "    print('Found \"%s\" at %d:%d' % (string[s:e], s, e))\n"
   ]
  },
  {
   "cell_type": "code",
   "execution_count": 94,
   "id": "8a4224b1",
   "metadata": {},
   "outputs": [
    {
     "name": "stdout",
     "output_type": "stream",
     "text": [
      "Original date in YYY-MM-DD Format:  2034-03-01\n",
      "New date in DD-MM-YYYY Format:  01-03-2034\n"
     ]
    }
   ],
   "source": [
    "19.# Program to convert a date of yyyy-mm-dd format to dd-mm-yyyy format.\n",
    "\n",
    "import re\n",
    "def change_date_format(dt):\n",
    "        return re.sub(r'(\\d{4})-(\\d{1,2})-(\\d{1,2})', '\\\\3-\\\\2-\\\\1', dt)\n",
    "dt1 = \"2034-03-01\"\n",
    "print(\"Original date in YYY-MM-DD Format: \",dt1)\n",
    "print(\"New date in DD-MM-YYYY Format: \",change_date_format(dt1))\n",
    "\n"
   ]
  },
  {
   "cell_type": "code",
   "execution_count": 98,
   "id": "20a9c35e",
   "metadata": {},
   "outputs": [
    {
     "name": "stdout",
     "output_type": "stream",
     "text": [
      "['34.45', '8948.38', '5.87', '678.78', '0.83', '99.1', '409.38']\n"
     ]
    }
   ],
   "source": [
    "20.#Find all decimal numbers with a precision of 1 or 2 in a string\n",
    "\n",
    "import re\n",
    "def find_decimal_numbers(decnum):\n",
    "    pattern = re.compile(r'\\d+\\.\\d{1,2}')\n",
    "    decimal_numbers = pattern.findall(decnum)\n",
    "\n",
    "    return decimal_numbers\n",
    "\n",
    "decnum = \"34.45 8948.38904 5.876 678.78 0.83 99.1 409.38\"\n",
    "result = find_decimal_numbers(decnum)\n",
    "\n",
    "print(result)\n"
   ]
  },
  {
   "cell_type": "code",
   "execution_count": 99,
   "id": "56412fc7",
   "metadata": {},
   "outputs": [
    {
     "name": "stdout",
     "output_type": "stream",
     "text": [
      "87\n",
      "Index position: 25\n"
     ]
    }
   ],
   "source": [
    "21.#Program to separate and print the numbers and their position of a given string.\n",
    "\n",
    "import re\n",
    "string = \"The laboratory conducted 87 experiments to analyze the chemical reactions. The results were carefully recorded and the conclusions were drawn based on the observed data.\"\n",
    "\n",
    "for m in re.finditer(\"\\d+\", string):\n",
    "    print(m.group(0))\n",
    "    print(\"Index position:\", m.start())"
   ]
  },
  {
   "cell_type": "code",
   "execution_count": 100,
   "id": "01766ab7",
   "metadata": {},
   "outputs": [
    {
     "name": "stdout",
     "output_type": "stream",
     "text": [
      "987\n"
     ]
    }
   ],
   "source": [
    "22.#Program to extract maximum/largest numeric value from a string.\n",
    "\n",
    "import re\n",
    "string = 'My marks in each semester are: 579, 392, 894, 945, 686, 704, 987'\n",
    "\n",
    "numeric_values = re.findall(r'\\d+', string)\n",
    "numeric_values = [int(value) for value in numeric_values]\n",
    "\n",
    "max_value = max(numeric_values)\n",
    "print(max_value)"
   ]
  },
  {
   "cell_type": "code",
   "execution_count": 103,
   "id": "ac8b5507",
   "metadata": {},
   "outputs": [
    {
     "name": "stdout",
     "output_type": "stream",
     "text": [
      "Machine Learning Is An Advanced Field In Computer Science\n"
     ]
    }
   ],
   "source": [
    "23.# Function in python to insert spaces between words starting with capital letters\n",
    "\n",
    "import re\n",
    "def insert_spaces_before_capitals(text):\n",
    "    pattern = re.compile(r'([a-z])([A-Z])')\n",
    "    modified_text = pattern.sub(r'\\1 \\2', text)\n",
    "    return modified_text\n",
    "string = \"MachineLearningIsAnAdvancedFieldInComputerScience\"\n",
    "result = insert_spaces_before_capitals(string)\n",
    "\n",
    "print(result)"
   ]
  },
  {
   "cell_type": "code",
   "execution_count": 104,
   "id": "2bd0d2a4",
   "metadata": {},
   "outputs": [
    {
     "name": "stdout",
     "output_type": "stream",
     "text": [
      "['An', 'Apple', 'Day', 'Keeps', 'The', 'Doctor', 'Away']\n"
     ]
    }
   ],
   "source": [
    "24.#Find sequences of one upper case letter followed by lower case letters \n",
    "\n",
    "import re\n",
    "def find_sequences(text):\n",
    "    pattern = re.compile(r'[A-Z][a-z]+')\n",
    "    sequences = pattern.findall(text)\n",
    "    return sequences\n",
    "\n",
    "sample_text = \"An Apple A Day Keeps The Doctor Away\"\n",
    "result = find_sequences(sample_text)\n",
    "\n",
    "print(result)\n"
   ]
  },
  {
   "cell_type": "code",
   "execution_count": 111,
   "id": "0781f0bd",
   "metadata": {},
   "outputs": [
    {
     "name": "stdout",
     "output_type": "stream",
     "text": [
      "Ocean ocean waves\n"
     ]
    }
   ],
   "source": [
    "25.# Program to remove continuous duplicate words from Sentence using Regular Expression.\n",
    "\n",
    "import re\n",
    "def remove_continuous_duplicates(sentence):\n",
    "    pattern = re.compile(r'\\b(\\w+)(?:\\s+\\1)+\\b')\n",
    "    modified_sentence = pattern.sub(r'\\1', sentence)\n",
    "    return modified_sentence\n",
    "\n",
    "sample_text = \"Ocean ocean waves waves\"\n",
    "result = remove_continuous_duplicates(sample_text)\n",
    "\n",
    "print(result)\n"
   ]
  },
  {
   "cell_type": "code",
   "execution_count": 110,
   "id": "73b2660d",
   "metadata": {},
   "outputs": [
    {
     "name": "stdout",
     "output_type": "stream",
     "text": [
      "Hello123: True\n",
      "World!: False\n"
     ]
    }
   ],
   "source": [
    "26.#Program using RegEx to accept string ending with alphanumeric character\n",
    "\n",
    "import re\n",
    "def ends_with_alphanumeric(input_string):\n",
    "    pattern = re.compile(r'\\w$')\n",
    "    match = re.search(pattern, input_string)\n",
    "    return bool(match)\n",
    "\n",
    "test_string1 = \"Hello123\"\n",
    "test_string2 = \"World!\"\n",
    "\n",
    "result1 = ends_with_alphanumeric(test_string1)\n",
    "result2 = ends_with_alphanumeric(test_string2)\n",
    "\n",
    "print(f'{test_string1}: {result1}')\n",
    "print(f'{test_string2}: {result2}')\n"
   ]
  },
  {
   "cell_type": "code",
   "execution_count": 113,
   "id": "b8640741",
   "metadata": {},
   "outputs": [
    {
     "name": "stdout",
     "output_type": "stream",
     "text": [
      "['#Sunset', '#abcd', '#Nature']\n"
     ]
    }
   ],
   "source": [
    "27.#Pprogram using RegEx to extract the hashtags\n",
    "\n",
    "import re\n",
    "def extract_hashtags(text):\n",
    "    pattern = re.compile(r'#\\w+')\n",
    "    hashtags = pattern.findall(text)\n",
    "    return hashtags\n",
    "\n",
    "sample_text = \"\"\"TARA @john_doe: #Sunset I mean #abcd is \"captivated\" by #Nature as the same \n",
    "has gave BEAUTIFUL <ed><U+00A0><U+00BD><ed><U+00B1><U+0089> \"scenic views\" Yes to\"\"\"\n",
    "\n",
    "result = extract_hashtags(sample_text)\n",
    "print(result)\n"
   ]
  },
  {
   "cell_type": "code",
   "execution_count": 114,
   "id": "fce98407",
   "metadata": {},
   "outputs": [
    {
     "name": "stdout",
     "output_type": "stream",
     "text": [
      "@Jags123456 Bharat band on 28??<ed><ed>Those who are protesting #demonetization are all different party leaders\n"
     ]
    }
   ],
   "source": [
    "28.#Program using RegEx to remove <U+..> like symbols\n",
    "\n",
    "import re\n",
    "def remove_unicode_symbols(text):\n",
    "    pattern = re.compile(r'<U\\+[0-9A-Fa-f]+>')\n",
    "    cleaned_text = pattern.sub('', text)\n",
    "    return cleaned_text\n",
    "\n",
    "sample_text = \"@Jags123456 Bharat band on 28??<ed><U+00A0><U+00BD><ed><U+00B8><U+0082>Those who are protesting #demonetization are all different party leaders\"\n",
    "result = remove_unicode_symbols(sample_text)\n",
    "print(result)\n"
   ]
  },
  {
   "cell_type": "code",
   "execution_count": 150,
   "id": "2b391d70",
   "metadata": {},
   "outputs": [
    {
     "name": "stdout",
     "output_type": "stream",
     "text": [
      "['17-05-1980', '18-07-1986']\n"
     ]
    }
   ],
   "source": [
    "29.#Write a python program to extract dates from the text stored in the text file\n",
    "\n",
    "import re\n",
    "def extract_dates_from_text(file_path):\n",
    "    with open(file_path, 'r') as file:\n",
    "        text = file.read()\n",
    "    date_pattern = re.compile(r'\\b(\\d{2}-\\d{2}-\\d{4})\\b')\n",
    "    dates = date_pattern.findall(text)\n",
    "    return dates\n",
    "\n",
    "file_path = 'q29.txt'\n",
    "result = extract_dates_from_text(file_path)\n",
    "print(result)\n"
   ]
  },
  {
   "cell_type": "code",
   "execution_count": 116,
   "id": "e68242ce",
   "metadata": {},
   "outputs": [
    {
     "name": "stdout",
     "output_type": "stream",
     "text": [
      "  Python illustration a StringList  a    elements  established. 2 elements  subsequently appended   StringList   StringList  adjusted accordingly.\n"
     ]
    }
   ],
   "source": [
    "30.#Function in python to remove all words from a string of length between 2 and 4\n",
    "\n",
    "import re\n",
    "def remove_words_of_length_between_2_and_4(input_string):\n",
    "    pattern = re.compile(r'\\b\\w{2,4}\\b')\n",
    "    cleaned_text = pattern.sub('', input_string)\n",
    "    return cleaned_text\n",
    "\n",
    "sample_text = \"In this Python illustration a StringList with a size of 39 elements is established. 2 elements are subsequently appended to the StringList and the StringList is adjusted accordingly.\"\n",
    "result = remove_words_of_length_between_2_and_4(sample_text)\n",
    "print(result)\n"
   ]
  },
  {
   "cell_type": "code",
   "execution_count": null,
   "id": "19bf1538",
   "metadata": {},
   "outputs": [],
   "source": []
  }
 ],
 "metadata": {
  "kernelspec": {
   "display_name": "Python 3 (ipykernel)",
   "language": "python",
   "name": "python3"
  },
  "language_info": {
   "codemirror_mode": {
    "name": "ipython",
    "version": 3
   },
   "file_extension": ".py",
   "mimetype": "text/x-python",
   "name": "python",
   "nbconvert_exporter": "python",
   "pygments_lexer": "ipython3",
   "version": "3.10.9"
  }
 },
 "nbformat": 4,
 "nbformat_minor": 5
}
