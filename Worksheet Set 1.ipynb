{
 "cells": [
  {
   "cell_type": "markdown",
   "id": "b9b2823a",
   "metadata": {},
   "source": [
    "# PYTHON-WORKSHEET SET 1"
   ]
  },
  {
   "cell_type": "markdown",
   "id": "08bbed31",
   "metadata": {},
   "source": [
    "1. C)%\n",
    "2. B)0\n",
    "3. C)24\n",
    "4. A)2\n",
    "5. D)6\n",
    "6. C)The finally block will be executed no matter if the try block raises an error or not.\n",
    "7. A)It is used to raise an exception\n",
    "8. C)in defining a generator\n",
    "9. A)_abc \n",
    "   C)abc2\n",
    "10. A)yield \n",
    "    B)raise"
   ]
  },
  {
   "cell_type": "code",
   "execution_count": 1,
   "id": "41ace01d",
   "metadata": {},
   "outputs": [
    {
     "name": "stdout",
     "output_type": "stream",
     "text": [
      "Enter input number : 5\n",
      "The factorial of 5 is 120\n"
     ]
    }
   ],
   "source": [
    "#11.Python program to find the factorial of a number\n",
    "n = int(input(\"Enter input number : \")) \n",
    "fact = 1\n",
    "if n < 0:\n",
    "    print(\"Factorial does not exist for negative numbers\")\n",
    "elif n == 0:\n",
    "    print(\"The factorial of 0 is 1\")\n",
    "else:\n",
    "    for i in range(1, n + 1):\n",
    "        fact = fact * i\n",
    "    print(\"The factorial of\",n,\"is\",fact)\n"
   ]
  },
  {
   "cell_type": "code",
   "execution_count": 3,
   "id": "8d210599",
   "metadata": {},
   "outputs": [
    {
     "name": "stdout",
     "output_type": "stream",
     "text": [
      "Enter a number to check if it's prime or composite: 7\n",
      "7 is a composite number.\n"
     ]
    }
   ],
   "source": [
    "#12.Python program to find whether a number is prime or composite.\n",
    "\n",
    "def is_prime(num):\n",
    "    if num < 2:\n",
    "        return False\n",
    "    elif num == 2:\n",
    "        return True\n",
    "    elif num % 2 == 0:\n",
    "        return False\n",
    "    else:\n",
    "        for i in range(3, int(num ** 0.5) + 1, 2):\n",
    "            if num % i == 0:\n",
    "                return False\n",
    "                return True\n",
    "\n",
    "number = int(input(\"Enter a number to check if it's prime or composite: \"))\n",
    "\n",
    "if is_prime(number):\n",
    "    print(f\"{number} is a prime number.\")\n",
    "else:\n",
    "    print(f\"{number} is a composite number.\")\n"
   ]
  },
  {
   "cell_type": "code",
   "execution_count": 12,
   "id": "1bfe3323",
   "metadata": {},
   "outputs": [
    {
     "name": "stdout",
     "output_type": "stream",
     "text": [
      "Enter a string to check if it's a palindrome: level\n",
      "'level' is a palindrome.\n"
     ]
    }
   ],
   "source": [
    "#13.Python program to check whether a given string is palindrome or not\n",
    "def is_palindrome(s):\n",
    "    s = s.lower().replace(\" \", \"\")\n",
    "    return s == s[::-1]\n",
    "\n",
    "string = input(\"Enter a string to check if it's a palindrome: \")\n",
    "if is_palindrome(string):\n",
    "    print(f\"'{string}' is a palindrome.\")\n",
    "else:\n",
    "    print(f\"'{string}' is not a palindrome.\")"
   ]
  },
  {
   "cell_type": "code",
   "execution_count": 14,
   "id": "6545cdcb",
   "metadata": {},
   "outputs": [
    {
     "name": "stdout",
     "output_type": "stream",
     "text": [
      "Enter the length of the first side (a): 5.5\n",
      "Enter the length of the second side (b): 4.5\n",
      "The length of the third side (hypotenuse) is: 7.11\n"
     ]
    }
   ],
   "source": [
    "#14.Python program to get the third side of right-angled triangle from two given sides\n",
    "import math\n",
    "def calculate_third_side(a, b):\n",
    "    return math.sqrt(a**2 + b**2)\n",
    "side1 = float(input(\"Enter the length of the first side (a): \"))\n",
    "side2 = float(input(\"Enter the length of the second side (b): \"))\n",
    "\n",
    "third_side = calculate_third_side(side1, side2)\n",
    "print(f\"The length of the third side (hypotenuse) is: {third_side:.2f}\")"
   ]
  },
  {
   "cell_type": "code",
   "execution_count": 1,
   "id": "6aed5aa6",
   "metadata": {},
   "outputs": [
    {
     "name": "stdout",
     "output_type": "stream",
     "text": [
      "Enter a string: saturday sunday\n",
      "Character frequencies in the given string:\n",
      "' ' occurs 1 time(s)\n",
      "'a' occurs 3 time(s)\n",
      "'d' occurs 2 time(s)\n",
      "'n' occurs 1 time(s)\n",
      "'r' occurs 1 time(s)\n",
      "'s' occurs 2 time(s)\n",
      "'t' occurs 1 time(s)\n",
      "'u' occurs 2 time(s)\n",
      "'y' occurs 2 time(s)\n"
     ]
    }
   ],
   "source": [
    "#15.Python program to print the frequency of each of the characters present in a given string\n",
    "import numpy as np\n",
    "def character_frequency(s):\n",
    "    unique_chars, counts = np.unique(list(s), return_counts=True)\n",
    "    \n",
    "    freq = {}\n",
    "    for char, count in zip(unique_chars, counts):\n",
    "        freq[char] = count\n",
    "    \n",
    "    return freq\n",
    "input_string = input(\"Enter a string: \")\n",
    "frequency = character_frequency(input_string)\n",
    "print(\"Character frequencies in the given string:\")\n",
    "for char, freq in frequency.items():\n",
    "    print(f\"'{char}' occurs {freq} time(s)\")\n"
   ]
  }
 ],
 "metadata": {
  "kernelspec": {
   "display_name": "Python 3 (ipykernel)",
   "language": "python",
   "name": "python3"
  },
  "language_info": {
   "codemirror_mode": {
    "name": "ipython",
    "version": 3
   },
   "file_extension": ".py",
   "mimetype": "text/x-python",
   "name": "python",
   "nbconvert_exporter": "python",
   "pygments_lexer": "ipython3",
   "version": "3.10.9"
  }
 },
 "nbformat": 4,
 "nbformat_minor": 5
}
